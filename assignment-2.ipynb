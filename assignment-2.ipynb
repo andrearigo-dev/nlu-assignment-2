{
 "cells": [
  {
   "cell_type": "markdown",
   "id": "a8e9e121-6d5a-42f7-994a-139eb3a1da8c",
   "metadata": {},
   "source": [
    "# Assignment\n",
    "\n",
    "Assigment is in the intersection of Named Entity Recognition and Dependency Parsing.\n",
    "\n",
    "0. Evaluate spaCy NER on CoNLL 2003 data (provided)\n",
    "    - report token-level performance (per class and total)\n",
    "        - accuracy of correctly recognizing all tokens that belong to named entities (i.e. tag-level accuracy) \n",
    "    - report CoNLL chunk-level performance (per class and total);\n",
    "        - precision, recall, f-measure of correctly recognizing all the named entities in a chunk per class and total  \n",
    "\n",
    "1. Grouping of Entities.\n",
    "Write a function to group recognized named entities using `noun_chunks` method of [spaCy](https://spacy.io/usage/linguistic-features#noun-chunks). Analyze the groups in terms of most frequent combinations (i.e. NER types that go together).\n",
    "\n",
    "2. One of the possible post-processing steps is to fix segmentation errors.\n",
    "Write a function that extends the entity span to cover the full noun-compounds. Make use of `compound` dependency relation."
   ]
  },
  {
   "cell_type": "markdown",
   "id": "5d144d32-81d8-4d7e-b431-0132c4eecd0f",
   "metadata": {},
   "source": [
    "# CoNLL Data\n",
    "From https://www.clips.uantwerpen.be/conll2003/ner/\n",
    "\n",
    "The shared task of CoNLL-2003 concerns language-independent named entity recognition. We will concentrate on four types of named entities: persons, locations, organizations and names of miscellaneous entities that do not belong to the previous three groups. \n",
    "\n",
    "The CoNLL-2003 shared task data files contain four columns separated by a single space. Each word has been put on a separate line and there is an empty line after each sentence. The first item on each line is a word, the second a part-of-speech (POS) tag, the third a syntactic chunk tag and the fourth the named entity tag. The chunk tags and the named entity tags have the format I-TYPE which means that the word is inside a phrase of type TYPE. Only if two phrases of the same type immediately follow each other, the first word of the second phrase will have tag B-TYPE to show that it starts a new phrase. A word with tag O is not part of a phrase.\n"
   ]
  },
  {
   "cell_type": "code",
   "execution_count": 1,
   "id": "5001e6ad-1474-4c13-b410-4d20e006bfae",
   "metadata": {},
   "outputs": [],
   "source": [
    "import conll\n",
    "import my_tokens\n",
    "import spacy\n",
    "from multiprocessing import Pool\n",
    "from sklearn.metrics import classification_report\n",
    "import pandas as pd\n",
    "from collections import defaultdict\n",
    "\n",
    "# token, POS tag, syntactic chunk tag (IOB), entity tag (IOB)\n",
    "test = conll.read_corpus_conll('dataset/train.txt')\n",
    "test = [my_tokens.Sentence(sent) for sent in test\n",
    "        if '-DOCSTART-' not in sent[0][0]]\n",
    "# test = test[:30]"
   ]
  },
  {
   "cell_type": "markdown",
   "id": "6854e05a-b54a-4eb0-a2c4-6f94f133e693",
   "metadata": {},
   "source": [
    "# 0. Evaluate spaCy NER on CoNLL 2003 data (provided)\n",
    "- report token-level performance (per class and total)\n",
    "    - accuracy of correctly recognizing all tokens that belong to named entities (i.e. tag-level accuracy) \n",
    "- report CoNLL chunk-level performance (per class and total);\n",
    "    - precision, recall, f-measure of correctly recognizing all the named entities in a chunk per class and total"
   ]
  },
  {
   "cell_type": "markdown",
   "id": "83c51bfa-9592-4b9b-b6cf-baf85b3fa21f",
   "metadata": {},
   "source": [
    "Conversion from Ontonotes tags to CoNLL format"
   ]
  },
  {
   "cell_type": "code",
   "execution_count": 2,
   "id": "f6ded94b-69e3-4347-a973-e3b2ab38b10e",
   "metadata": {},
   "outputs": [],
   "source": [
    "# conversion of tags from Ontonotes (spacy) to CoNLL format\n",
    "def from_spacy_to_conll(predictions_spacy):\n",
    "    switcher = {\n",
    "                ' ': '',\n",
    "                '': '',\n",
    "                'ORG': '-ORG',\n",
    "                'PER': '-PER',\n",
    "                'LOC': '-LOC',\n",
    "                'PERSON': '-PER',\n",
    "                'GPE': '-LOC'\n",
    "            }\n",
    "\n",
    "    # LOC, PER, ORG, MISC\n",
    "    predictions = []\n",
    "\n",
    "    for sent in predictions_spacy:\n",
    "        new = []\n",
    "\n",
    "        for token in sent:\n",
    "            # merge iob and entity type\n",
    "            new.append((token.text, token.ent_iob_ + switcher.get(\n",
    "                                            token.ent_type_, '-MISC')))\n",
    "\n",
    "        predictions.append(new)\n",
    "\n",
    "    return predictions"
   ]
  },
  {
   "cell_type": "markdown",
   "id": "f14038a9-460d-4f0d-8dc9-609854208049",
   "metadata": {},
   "source": [
    "## SpaCy predictions with custom tokenizer\n",
    "Define custom tokenizer for spacy, otherwise spaCy will tokenize differently from how the CoNLL dataset has been tokenized. This would produce different tokens in output, rendering impossible to compute the accuracy.\n",
    "Because the prediction of each sentence is indipendent of the other sentences, so I used the Pool function to parallelize the task across multiple processes to performe the computation faster. However, for convinience I used a test set of only 100 samples during development, and that case is faster to not use multi processing."
   ]
  },
  {
   "cell_type": "code",
   "execution_count": 3,
   "id": "51821e03-65ac-45d1-8c84-5f1b7cac1e1e",
   "metadata": {},
   "outputs": [
    {
     "data": {
      "text/plain": [
       "[('\"', 'O', ''), ('We', 'O', ''), ('do', 'O', '')]"
      ]
     },
     "execution_count": 3,
     "metadata": {},
     "output_type": "execute_result"
    }
   ],
   "source": [
    "# %%time\n",
    "\n",
    "nlp = spacy.load('en_core_web_sm')\n",
    "\n",
    "\n",
    "def tokenizer_(sent):\n",
    "    return spacy.tokens.Doc(nlp.vocab, sent.split())\n",
    "\n",
    "\n",
    "nlp.tokenizer = tokenizer_\n",
    "\n",
    "if len(test) > 100:\n",
    "    with Pool(4) as p:\n",
    "        # spacy predictions, multi-process\n",
    "        predictions_spacy = p.map(nlp, [str(sent) for sent in test])\n",
    "else:\n",
    "    # spacy predictions\n",
    "    predictions_spacy = [nlp(str(sent)) for sent in test]\n",
    "\n",
    "[(token.text, token.ent_iob_, token.ent_type_) for token in predictions_spacy[5][0:3]]"
   ]
  },
  {
   "cell_type": "code",
   "execution_count": 4,
   "id": "113e4342-2f5a-4da6-94d5-15cfb863619e",
   "metadata": {},
   "outputs": [
    {
     "data": {
      "text/plain": [
       "[('\"', 'O'), ('We', 'O'), ('do', 'O')]"
      ]
     },
     "execution_count": 4,
     "metadata": {},
     "output_type": "execute_result"
    }
   ],
   "source": [
    "# convert to NLTK format so that conll.evaluate can be used\n",
    "predictions = from_spacy_to_conll(predictions_spacy)\n",
    "\n",
    "predictions[5][0:3]"
   ]
  },
  {
   "cell_type": "markdown",
   "id": "9eadc1cf-89cf-42fa-a760-a02e41d43ac5",
   "metadata": {},
   "source": [
    "## Token-level accuracy, total and per-class"
   ]
  },
  {
   "cell_type": "code",
   "execution_count": 5,
   "id": "80d7ddb7-7e2e-46d9-8bfb-c9081283bd1d",
   "metadata": {},
   "outputs": [
    {
     "data": {
      "text/plain": [
       "[('\"', 'O'), ('We', 'O'), ('do', 'O')]"
      ]
     },
     "execution_count": 5,
     "metadata": {},
     "output_type": "execute_result"
    }
   ],
   "source": [
    "# organize test data in tuples (entity, tag)\n",
    "test_set = [[(token.text, token.ent_tag) for token in sent.tokens] for sent in test]\n",
    "\n",
    "test_set[5][0:3]"
   ]
  },
  {
   "cell_type": "code",
   "execution_count": 6,
   "id": "a85291b7-d86b-4e74-ba63-778a509e0f00",
   "metadata": {},
   "outputs": [
    {
     "data": {
      "text/html": [
       "<div>\n",
       "<style scoped>\n",
       "    .dataframe tbody tr th:only-of-type {\n",
       "        vertical-align: middle;\n",
       "    }\n",
       "\n",
       "    .dataframe tbody tr th {\n",
       "        vertical-align: top;\n",
       "    }\n",
       "\n",
       "    .dataframe thead th {\n",
       "        text-align: right;\n",
       "    }\n",
       "</style>\n",
       "<table border=\"1\" class=\"dataframe\">\n",
       "  <thead>\n",
       "    <tr style=\"text-align: right;\">\n",
       "      <th></th>\n",
       "      <th>precision</th>\n",
       "      <th>recall</th>\n",
       "      <th>f1-score</th>\n",
       "      <th>support</th>\n",
       "    </tr>\n",
       "  </thead>\n",
       "  <tbody>\n",
       "    <tr>\n",
       "      <th>B-LOC</th>\n",
       "      <td>0.804</td>\n",
       "      <td>0.707</td>\n",
       "      <td>0.752</td>\n",
       "      <td>7140.000</td>\n",
       "    </tr>\n",
       "    <tr>\n",
       "      <th>B-MISC</th>\n",
       "      <td>0.127</td>\n",
       "      <td>0.573</td>\n",
       "      <td>0.208</td>\n",
       "      <td>3438.000</td>\n",
       "    </tr>\n",
       "    <tr>\n",
       "      <th>B-ORG</th>\n",
       "      <td>0.463</td>\n",
       "      <td>0.313</td>\n",
       "      <td>0.374</td>\n",
       "      <td>6321.000</td>\n",
       "    </tr>\n",
       "    <tr>\n",
       "      <th>B-PER</th>\n",
       "      <td>0.794</td>\n",
       "      <td>0.651</td>\n",
       "      <td>0.715</td>\n",
       "      <td>6600.000</td>\n",
       "    </tr>\n",
       "    <tr>\n",
       "      <th>I-LOC</th>\n",
       "      <td>0.632</td>\n",
       "      <td>0.623</td>\n",
       "      <td>0.628</td>\n",
       "      <td>1157.000</td>\n",
       "    </tr>\n",
       "    <tr>\n",
       "      <th>I-MISC</th>\n",
       "      <td>0.043</td>\n",
       "      <td>0.252</td>\n",
       "      <td>0.073</td>\n",
       "      <td>1155.000</td>\n",
       "    </tr>\n",
       "    <tr>\n",
       "      <th>I-ORG</th>\n",
       "      <td>0.485</td>\n",
       "      <td>0.549</td>\n",
       "      <td>0.515</td>\n",
       "      <td>3704.000</td>\n",
       "    </tr>\n",
       "    <tr>\n",
       "      <th>I-PER</th>\n",
       "      <td>0.815</td>\n",
       "      <td>0.800</td>\n",
       "      <td>0.808</td>\n",
       "      <td>4528.000</td>\n",
       "    </tr>\n",
       "    <tr>\n",
       "      <th>O</th>\n",
       "      <td>0.952</td>\n",
       "      <td>0.874</td>\n",
       "      <td>0.911</td>\n",
       "      <td>169578.000</td>\n",
       "    </tr>\n",
       "    <tr>\n",
       "      <th>accuracy</th>\n",
       "      <td>0.826</td>\n",
       "      <td>0.826</td>\n",
       "      <td>0.826</td>\n",
       "      <td>0.826</td>\n",
       "    </tr>\n",
       "    <tr>\n",
       "      <th>macro avg</th>\n",
       "      <td>0.568</td>\n",
       "      <td>0.594</td>\n",
       "      <td>0.554</td>\n",
       "      <td>203621.000</td>\n",
       "    </tr>\n",
       "    <tr>\n",
       "      <th>weighted avg</th>\n",
       "      <td>0.894</td>\n",
       "      <td>0.826</td>\n",
       "      <td>0.855</td>\n",
       "      <td>203621.000</td>\n",
       "    </tr>\n",
       "  </tbody>\n",
       "</table>\n",
       "</div>"
      ],
      "text/plain": [
       "              precision  recall  f1-score     support\n",
       "B-LOC             0.804   0.707     0.752    7140.000\n",
       "B-MISC            0.127   0.573     0.208    3438.000\n",
       "B-ORG             0.463   0.313     0.374    6321.000\n",
       "B-PER             0.794   0.651     0.715    6600.000\n",
       "I-LOC             0.632   0.623     0.628    1157.000\n",
       "I-MISC            0.043   0.252     0.073    1155.000\n",
       "I-ORG             0.485   0.549     0.515    3704.000\n",
       "I-PER             0.815   0.800     0.808    4528.000\n",
       "O                 0.952   0.874     0.911  169578.000\n",
       "accuracy          0.826   0.826     0.826       0.826\n",
       "macro avg         0.568   0.594     0.554  203621.000\n",
       "weighted avg      0.894   0.826     0.855  203621.000"
      ]
     },
     "execution_count": 6,
     "metadata": {},
     "output_type": "execute_result"
    }
   ],
   "source": [
    "pred_labels = [token[1] for sent in predictions for token in sent]\n",
    "test_labels = [token[1] for sent in test_set for token in sent]\n",
    "\n",
    "per_class_metrics = classification_report(test_labels, pred_labels,\n",
    "                                          output_dict=True)\n",
    "\n",
    "pd_tbl_class = pd.DataFrame().from_dict(per_class_metrics).transpose()\n",
    "pd_tbl_class.round(decimals=3)"
   ]
  },
  {
   "cell_type": "markdown",
   "id": "bfc11b69-f591-473e-88ba-d10aed67ca91",
   "metadata": {},
   "source": [
    "### Chunk-level accuracy"
   ]
  },
  {
   "cell_type": "code",
   "execution_count": 7,
   "id": "efe5d24e-6d56-44bb-8681-2cdce63ef4f0",
   "metadata": {},
   "outputs": [
    {
     "data": {
      "text/html": [
       "<div>\n",
       "<style scoped>\n",
       "    .dataframe tbody tr th:only-of-type {\n",
       "        vertical-align: middle;\n",
       "    }\n",
       "\n",
       "    .dataframe tbody tr th {\n",
       "        vertical-align: top;\n",
       "    }\n",
       "\n",
       "    .dataframe thead th {\n",
       "        text-align: right;\n",
       "    }\n",
       "</style>\n",
       "<table border=\"1\" class=\"dataframe\">\n",
       "  <thead>\n",
       "    <tr style=\"text-align: right;\">\n",
       "      <th></th>\n",
       "      <th>p</th>\n",
       "      <th>r</th>\n",
       "      <th>f</th>\n",
       "      <th>s</th>\n",
       "    </tr>\n",
       "  </thead>\n",
       "  <tbody>\n",
       "    <tr>\n",
       "      <th>LOC</th>\n",
       "      <td>0.796</td>\n",
       "      <td>0.699</td>\n",
       "      <td>0.744</td>\n",
       "      <td>7140</td>\n",
       "    </tr>\n",
       "    <tr>\n",
       "      <th>ORG</th>\n",
       "      <td>0.413</td>\n",
       "      <td>0.279</td>\n",
       "      <td>0.333</td>\n",
       "      <td>6321</td>\n",
       "    </tr>\n",
       "    <tr>\n",
       "      <th>MISC</th>\n",
       "      <td>0.120</td>\n",
       "      <td>0.541</td>\n",
       "      <td>0.196</td>\n",
       "      <td>3438</td>\n",
       "    </tr>\n",
       "    <tr>\n",
       "      <th>PER</th>\n",
       "      <td>0.771</td>\n",
       "      <td>0.632</td>\n",
       "      <td>0.695</td>\n",
       "      <td>6600</td>\n",
       "    </tr>\n",
       "    <tr>\n",
       "      <th>total</th>\n",
       "      <td>0.406</td>\n",
       "      <td>0.544</td>\n",
       "      <td>0.465</td>\n",
       "      <td>23499</td>\n",
       "    </tr>\n",
       "  </tbody>\n",
       "</table>\n",
       "</div>"
      ],
      "text/plain": [
       "           p      r      f      s\n",
       "LOC    0.796  0.699  0.744   7140\n",
       "ORG    0.413  0.279  0.333   6321\n",
       "MISC   0.120  0.541  0.196   3438\n",
       "PER    0.771  0.632  0.695   6600\n",
       "total  0.406  0.544  0.465  23499"
      ]
     },
     "execution_count": 7,
     "metadata": {},
     "output_type": "execute_result"
    }
   ],
   "source": [
    "results = conll.evaluate(test_set, predictions)\n",
    "\n",
    "pd_tbl = pd.DataFrame().from_dict(results, orient='index')\n",
    "pd_tbl.round(decimals=3)"
   ]
  },
  {
   "cell_type": "markdown",
   "id": "cdc00033-97ca-4ffd-9e41-c451a43cd29f",
   "metadata": {},
   "source": [
    "# 1. Grouping of Entities.\n",
    "Write a function to group recognized named entities using `noun_chunks` method of [spaCy](https://spacy.io/usage/linguistic-features#noun-chunks). Analyze the groups in terms of most frequent combinations (i.e. NER types that go together)."
   ]
  },
  {
   "cell_type": "code",
   "execution_count": 8,
   "id": "4150c341-a2c3-4dbf-9040-2e6aac35d8ff",
   "metadata": {
    "tags": []
   },
   "outputs": [
    {
     "name": "stdout",
     "output_type": "stream",
     "text": [
      "\" We do n't support any such recommendation because we do n't see any grounds for it , \" the Commission 's chief spokesman Nikolaus van der Pas told a news briefing . \n"
     ]
    },
    {
     "data": {
      "text/plain": [
       "[[Commission], [Nikolaus, van, der, Pas]]"
      ]
     },
     "execution_count": 8,
     "metadata": {},
     "output_type": "execute_result"
    }
   ],
   "source": [
    "def is_in_a_group(token, groups):\n",
    "    for group in groups:\n",
    "        for elem in group:\n",
    "            if elem.i == token.i:\n",
    "                return True\n",
    "    return False\n",
    "\n",
    "\n",
    "def insert_in_group(token, groups):\n",
    "    # search the group containing the previous token in sentence order\n",
    "    for i, group in enumerate(groups):\n",
    "        for elem in group:\n",
    "            if elem.i == token.i - 1:\n",
    "                # add the token in next position\n",
    "                return groups.insert(i+1, [token])\n",
    "\n",
    "\n",
    "def group_by_noun_chunk(sent_doc):\n",
    "    groups = [[token for token in chunk if token.ent_type_ != '']\n",
    "              for chunk in sent_doc.noun_chunks]\n",
    "    groups = [group for group in groups if len(group) > 0]\n",
    "\n",
    "    for token in sent_doc:\n",
    "        # check if token already in a group\n",
    "        if token.ent_type_ != '' and not is_in_a_group(token, groups):\n",
    "            # insert the missing token in sentence order\n",
    "            insert_in_group(token, groups)\n",
    "\n",
    "    return groups\n",
    "\n",
    "\n",
    "predictions_grouped = [group_by_noun_chunk(sent) for sent in predictions_spacy]\n",
    "print(predictions_spacy[5])\n",
    "predictions_grouped[5]"
   ]
  },
  {
   "cell_type": "markdown",
   "id": "ff82ee3c-2802-4efc-a3d0-8eed936b5e06",
   "metadata": {},
   "source": [
    "Swap each token with its tag"
   ]
  },
  {
   "cell_type": "code",
   "execution_count": 9,
   "id": "d6d1bb78-0217-477d-8912-697d63cf39dc",
   "metadata": {},
   "outputs": [
    {
     "data": {
      "text/plain": [
       "[['ORG'], ['PERSON', 'PERSON', 'PERSON', 'PERSON']]"
      ]
     },
     "execution_count": 9,
     "metadata": {},
     "output_type": "execute_result"
    }
   ],
   "source": [
    "def to_tag_groups(grouped_sents):\n",
    "    for i, sent in enumerate(grouped_sents):\n",
    "        for j, group in enumerate(sent):\n",
    "            for k, token in enumerate(group):\n",
    "                grouped_sents[i][j][k] = token.ent_type_\n",
    "\n",
    "\n",
    "to_tag_groups(predictions_grouped)\n",
    "predictions_grouped[5]"
   ]
  },
  {
   "cell_type": "markdown",
   "id": "c35aa93c-1a12-4304-bd7b-c41a02a2dab6",
   "metadata": {},
   "source": [
    "## Count frequencies of named entities combinations"
   ]
  },
  {
   "cell_type": "code",
   "execution_count": 10,
   "id": "103e1dae-9147-410b-aef0-22cbafe12364",
   "metadata": {},
   "outputs": [
    {
     "data": {
      "text/html": [
       "<div>\n",
       "<style scoped>\n",
       "    .dataframe tbody tr th:only-of-type {\n",
       "        vertical-align: middle;\n",
       "    }\n",
       "\n",
       "    .dataframe tbody tr th {\n",
       "        vertical-align: top;\n",
       "    }\n",
       "\n",
       "    .dataframe thead th {\n",
       "        text-align: right;\n",
       "    }\n",
       "</style>\n",
       "<table border=\"1\" class=\"dataframe\">\n",
       "  <thead>\n",
       "    <tr style=\"text-align: right;\">\n",
       "      <th></th>\n",
       "      <th>Count</th>\n",
       "    </tr>\n",
       "  </thead>\n",
       "  <tbody>\n",
       "    <tr>\n",
       "      <th>GPE</th>\n",
       "      <td>4647</td>\n",
       "    </tr>\n",
       "    <tr>\n",
       "      <th>DATE</th>\n",
       "      <td>3073</td>\n",
       "    </tr>\n",
       "    <tr>\n",
       "      <th>PERSON-PERSON</th>\n",
       "      <td>2769</td>\n",
       "    </tr>\n",
       "    <tr>\n",
       "      <th>ORG</th>\n",
       "      <td>2451</td>\n",
       "    </tr>\n",
       "    <tr>\n",
       "      <th>CARDINAL</th>\n",
       "      <td>2007</td>\n",
       "    </tr>\n",
       "    <tr>\n",
       "      <th>...</th>\n",
       "      <td>...</td>\n",
       "    </tr>\n",
       "    <tr>\n",
       "      <th>EVENT-EVENT-PERSON-PERSON</th>\n",
       "      <td>1</td>\n",
       "    </tr>\n",
       "    <tr>\n",
       "      <th>DATE-DATE-DATE-GPE-GPE</th>\n",
       "      <td>1</td>\n",
       "    </tr>\n",
       "    <tr>\n",
       "      <th>PERSON-PERSON-PERSON-ORG-ORG-ORG-ORG</th>\n",
       "      <td>1</td>\n",
       "    </tr>\n",
       "    <tr>\n",
       "      <th>ORG-ORG-ORG-GPE-GPE</th>\n",
       "      <td>1</td>\n",
       "    </tr>\n",
       "    <tr>\n",
       "      <th>LANGUAGE-GPE</th>\n",
       "      <td>1</td>\n",
       "    </tr>\n",
       "  </tbody>\n",
       "</table>\n",
       "<p>375 rows × 1 columns</p>\n",
       "</div>"
      ],
      "text/plain": [
       "                                      Count\n",
       "GPE                                    4647\n",
       "DATE                                   3073\n",
       "PERSON-PERSON                          2769\n",
       "ORG                                    2451\n",
       "CARDINAL                               2007\n",
       "...                                     ...\n",
       "EVENT-EVENT-PERSON-PERSON                 1\n",
       "DATE-DATE-DATE-GPE-GPE                    1\n",
       "PERSON-PERSON-PERSON-ORG-ORG-ORG-ORG      1\n",
       "ORG-ORG-ORG-GPE-GPE                       1\n",
       "LANGUAGE-GPE                              1\n",
       "\n",
       "[375 rows x 1 columns]"
      ]
     },
     "execution_count": 10,
     "metadata": {},
     "output_type": "execute_result"
    }
   ],
   "source": [
    "def get_group_freqs(grouped_sents):\n",
    "    freqs = defaultdict(lambda: 0, {})\n",
    "\n",
    "    for i, sent in enumerate(grouped_sents):\n",
    "        for j, group in enumerate(sent):\n",
    "            freqs['-'.join([str(token) for token in group])] += 1\n",
    "\n",
    "    return freqs\n",
    "\n",
    "\n",
    "pd_freq_tbl = pd.DataFrame().from_dict(get_group_freqs(predictions_grouped),\n",
    "                                       orient='index', columns=['Count'])\n",
    "pd_freq_tbl.sort_values(by='Count', ascending=False)"
   ]
  },
  {
   "cell_type": "markdown",
   "id": "12194b99-57d1-4b92-b8aa-81dcb5571634",
   "metadata": {},
   "source": [
    "# 2. One of the possible post-processing steps is to fix segmentation errors.\n",
    "Write a function that extends the entity span to cover the full noun-compounds. Make use of `compound` dependency relation."
   ]
  },
  {
   "cell_type": "code",
   "execution_count": 11,
   "id": "04860820-86e5-4b0f-966c-3304b6721462",
   "metadata": {
    "tags": []
   },
   "outputs": [
    {
     "data": {
      "text/html": [
       "<span class=\"tex2jax_ignore\"><div class=\"entities\" style=\"line-height: 2.5; direction: ltr\">&quot; We do n't support any such recommendation because we do n't see any grounds for it , &quot; the \n",
       "<mark class=\"entity\" style=\"background: #7aecec; padding: 0.45em 0.6em; margin: 0 0.25em; line-height: 1; border-radius: 0.35em;\">\n",
       "    Commission\n",
       "    <span style=\"font-size: 0.8em; font-weight: bold; line-height: 1; border-radius: 0.35em; vertical-align: middle; margin-left: 0.5rem\">ORG</span>\n",
       "</mark>\n",
       " 's chief spokesman \n",
       "<mark class=\"entity\" style=\"background: #aa9cfc; padding: 0.45em 0.6em; margin: 0 0.25em; line-height: 1; border-radius: 0.35em;\">\n",
       "    Nikolaus van der Pas\n",
       "    <span style=\"font-size: 0.8em; font-weight: bold; line-height: 1; border-radius: 0.35em; vertical-align: middle; margin-left: 0.5rem\">PERSON</span>\n",
       "</mark>\n",
       " told a news briefing . </div></span>"
      ],
      "text/plain": [
       "<IPython.core.display.HTML object>"
      ]
     },
     "metadata": {},
     "output_type": "display_data"
    },
    {
     "data": {
      "text/html": [
       "<span class=\"tex2jax_ignore\"><div class=\"entities\" style=\"line-height: 2.5; direction: ltr\">&quot; We do n't support any such recommendation because we do n't see any grounds for it , &quot; the \n",
       "<mark class=\"entity\" style=\"background: #7aecec; padding: 0.45em 0.6em; margin: 0 0.25em; line-height: 1; border-radius: 0.35em;\">\n",
       "    Commission\n",
       "    <span style=\"font-size: 0.8em; font-weight: bold; line-height: 1; border-radius: 0.35em; vertical-align: middle; margin-left: 0.5rem\">ORG</span>\n",
       "</mark>\n",
       " 's chief spokesman \n",
       "<mark class=\"entity\" style=\"background: #aa9cfc; padding: 0.45em 0.6em; margin: 0 0.25em; line-height: 1; border-radius: 0.35em;\">\n",
       "    Nikolaus van der Pas\n",
       "    <span style=\"font-size: 0.8em; font-weight: bold; line-height: 1; border-radius: 0.35em; vertical-align: middle; margin-left: 0.5rem\">PERSON</span>\n",
       "</mark>\n",
       " told a news briefing . </div></span>"
      ],
      "text/plain": [
       "<IPython.core.display.HTML object>"
      ]
     },
     "metadata": {},
     "output_type": "display_data"
    }
   ],
   "source": [
    "def fix_sent_segmentation(sent, recursive=False):\n",
    "    updated = True\n",
    "    keep_expanding = True\n",
    "\n",
    "    # if a token in an entity span has a compound child that is not in another\n",
    "    # entity span, expand the span to include it\n",
    "    while keep_expanding and updated:\n",
    "        updated = False\n",
    "        keep_expanding = recursive\n",
    "\n",
    "        for span_i, _ in enumerate(sent.ents):\n",
    "            for token in sent.ents[span_i]:\n",
    "                for child in token.children:\n",
    "                    # this way if a span gets expanded, this variable will be\n",
    "                    # updated accordingly instead of being set to the original\n",
    "                    # span passed by the 'for span in sent', which is never\n",
    "                    # updated\n",
    "                    span = sent.ents[span_i]\n",
    "\n",
    "                    # the child is a compound for the parent\n",
    "                    # because it has an IOB tag of O, it is not part of any\n",
    "                    # other span. So, its parent's span has to be\n",
    "                    # expandend to include the child\n",
    "                    if child.dep_ == 'compound' and child.ent_iob_ == 'O':\n",
    "                        # child adjacent and on the left of the span\n",
    "                        if child.i == span[0].i - 1:\n",
    "                            # find the span's boundaries to create a new span\n",
    "                            updated = True\n",
    "\n",
    "                            sent.set_ents(\n",
    "                                [\n",
    "                                    spacy.tokens.Span(\n",
    "                                        doc=sent,\n",
    "                                        start=child.i,\n",
    "                                        end=span[-1].i + 1,\n",
    "                                        label=span[0].ent_type_\n",
    "                                    )\n",
    "                                ],\n",
    "                                default='unmodified'\n",
    "                            )\n",
    "                        # adjacent and on the right side\n",
    "                        elif child.i == span[-1].i + 1:\n",
    "                            updated = True\n",
    "\n",
    "                            sent.set_ents(\n",
    "                                [\n",
    "                                    spacy.tokens.Span(\n",
    "                                        doc=sent,\n",
    "                                        start=span[0].i,\n",
    "                                        end=child.i + 1,\n",
    "                                        label=span[0].ent_type_\n",
    "                                    )\n",
    "                                ],\n",
    "                                default='unmodified'\n",
    "                            )\n",
    "\n",
    "\n",
    "def fix_segmentation(spacy_sents):\n",
    "    for pred in spacy_sents:\n",
    "        fix_sent_segmentation(pred)\n",
    "\n",
    "\n",
    "# before\n",
    "spacy.displacy.render(predictions_spacy[5], style='ent')\n",
    "\n",
    "post_pred = predictions_spacy.copy()\n",
    "fix_segmentation(post_pred)\n",
    "\n",
    "# after\n",
    "spacy.displacy.render(post_pred[5], style='ent')"
   ]
  },
  {
   "cell_type": "markdown",
   "id": "1137562c-b9ce-4ba9-9d41-3a25648c6cbf",
   "metadata": {},
   "source": [
    "## Test post-processing"
   ]
  },
  {
   "cell_type": "code",
   "execution_count": 12,
   "id": "9df8f506-d849-4474-a7f6-dcaa0c893565",
   "metadata": {},
   "outputs": [
    {
     "data": {
      "text/html": [
       "<div>\n",
       "<style scoped>\n",
       "    .dataframe tbody tr th:only-of-type {\n",
       "        vertical-align: middle;\n",
       "    }\n",
       "\n",
       "    .dataframe tbody tr th {\n",
       "        vertical-align: top;\n",
       "    }\n",
       "\n",
       "    .dataframe thead th {\n",
       "        text-align: right;\n",
       "    }\n",
       "</style>\n",
       "<table border=\"1\" class=\"dataframe\">\n",
       "  <thead>\n",
       "    <tr style=\"text-align: right;\">\n",
       "      <th></th>\n",
       "      <th>precision</th>\n",
       "      <th>recall</th>\n",
       "      <th>f1-score</th>\n",
       "      <th>support</th>\n",
       "    </tr>\n",
       "  </thead>\n",
       "  <tbody>\n",
       "    <tr>\n",
       "      <th>B-LOC</th>\n",
       "      <td>0.793</td>\n",
       "      <td>0.696</td>\n",
       "      <td>0.742</td>\n",
       "      <td>7140.000</td>\n",
       "    </tr>\n",
       "    <tr>\n",
       "      <th>B-MISC</th>\n",
       "      <td>0.127</td>\n",
       "      <td>0.573</td>\n",
       "      <td>0.208</td>\n",
       "      <td>3438.000</td>\n",
       "    </tr>\n",
       "    <tr>\n",
       "      <th>B-ORG</th>\n",
       "      <td>0.453</td>\n",
       "      <td>0.306</td>\n",
       "      <td>0.366</td>\n",
       "      <td>6321.000</td>\n",
       "    </tr>\n",
       "    <tr>\n",
       "      <th>B-PER</th>\n",
       "      <td>0.666</td>\n",
       "      <td>0.546</td>\n",
       "      <td>0.600</td>\n",
       "      <td>6600.000</td>\n",
       "    </tr>\n",
       "    <tr>\n",
       "      <th>I-LOC</th>\n",
       "      <td>0.573</td>\n",
       "      <td>0.624</td>\n",
       "      <td>0.597</td>\n",
       "      <td>1157.000</td>\n",
       "    </tr>\n",
       "    <tr>\n",
       "      <th>I-MISC</th>\n",
       "      <td>0.042</td>\n",
       "      <td>0.255</td>\n",
       "      <td>0.073</td>\n",
       "      <td>1155.000</td>\n",
       "    </tr>\n",
       "    <tr>\n",
       "      <th>I-ORG</th>\n",
       "      <td>0.474</td>\n",
       "      <td>0.552</td>\n",
       "      <td>0.510</td>\n",
       "      <td>3704.000</td>\n",
       "    </tr>\n",
       "    <tr>\n",
       "      <th>I-PER</th>\n",
       "      <td>0.693</td>\n",
       "      <td>0.814</td>\n",
       "      <td>0.749</td>\n",
       "      <td>4528.000</td>\n",
       "    </tr>\n",
       "    <tr>\n",
       "      <th>O</th>\n",
       "      <td>0.953</td>\n",
       "      <td>0.868</td>\n",
       "      <td>0.908</td>\n",
       "      <td>169578.000</td>\n",
       "    </tr>\n",
       "    <tr>\n",
       "      <th>accuracy</th>\n",
       "      <td>0.817</td>\n",
       "      <td>0.817</td>\n",
       "      <td>0.817</td>\n",
       "      <td>0.817</td>\n",
       "    </tr>\n",
       "    <tr>\n",
       "      <th>macro avg</th>\n",
       "      <td>0.531</td>\n",
       "      <td>0.582</td>\n",
       "      <td>0.528</td>\n",
       "      <td>203621.000</td>\n",
       "    </tr>\n",
       "    <tr>\n",
       "      <th>weighted avg</th>\n",
       "      <td>0.887</td>\n",
       "      <td>0.817</td>\n",
       "      <td>0.847</td>\n",
       "      <td>203621.000</td>\n",
       "    </tr>\n",
       "  </tbody>\n",
       "</table>\n",
       "</div>"
      ],
      "text/plain": [
       "              precision  recall  f1-score     support\n",
       "B-LOC             0.793   0.696     0.742    7140.000\n",
       "B-MISC            0.127   0.573     0.208    3438.000\n",
       "B-ORG             0.453   0.306     0.366    6321.000\n",
       "B-PER             0.666   0.546     0.600    6600.000\n",
       "I-LOC             0.573   0.624     0.597    1157.000\n",
       "I-MISC            0.042   0.255     0.073    1155.000\n",
       "I-ORG             0.474   0.552     0.510    3704.000\n",
       "I-PER             0.693   0.814     0.749    4528.000\n",
       "O                 0.953   0.868     0.908  169578.000\n",
       "accuracy          0.817   0.817     0.817       0.817\n",
       "macro avg         0.531   0.582     0.528  203621.000\n",
       "weighted avg      0.887   0.817     0.847  203621.000"
      ]
     },
     "execution_count": 12,
     "metadata": {},
     "output_type": "execute_result"
    }
   ],
   "source": [
    "predictions = from_spacy_to_conll(post_pred)\n",
    "pred_labels = [token[1] for sent in predictions for token in sent]\n",
    "\n",
    "per_class_metrics = classification_report(test_labels, pred_labels,\n",
    "                                          output_dict=True)\n",
    "\n",
    "pd_tbl_class = pd.DataFrame().from_dict(per_class_metrics).transpose()\n",
    "pd_tbl_class.round(decimals=3)"
   ]
  },
  {
   "cell_type": "code",
   "execution_count": 13,
   "id": "af41452f-9558-48d6-8e49-32ad078b8c79",
   "metadata": {},
   "outputs": [
    {
     "data": {
      "text/html": [
       "<div>\n",
       "<style scoped>\n",
       "    .dataframe tbody tr th:only-of-type {\n",
       "        vertical-align: middle;\n",
       "    }\n",
       "\n",
       "    .dataframe tbody tr th {\n",
       "        vertical-align: top;\n",
       "    }\n",
       "\n",
       "    .dataframe thead th {\n",
       "        text-align: right;\n",
       "    }\n",
       "</style>\n",
       "<table border=\"1\" class=\"dataframe\">\n",
       "  <thead>\n",
       "    <tr style=\"text-align: right;\">\n",
       "      <th></th>\n",
       "      <th>p</th>\n",
       "      <th>r</th>\n",
       "      <th>f</th>\n",
       "      <th>s</th>\n",
       "    </tr>\n",
       "  </thead>\n",
       "  <tbody>\n",
       "    <tr>\n",
       "      <th>LOC</th>\n",
       "      <td>0.784</td>\n",
       "      <td>0.689</td>\n",
       "      <td>0.733</td>\n",
       "      <td>7140</td>\n",
       "    </tr>\n",
       "    <tr>\n",
       "      <th>ORG</th>\n",
       "      <td>0.404</td>\n",
       "      <td>0.273</td>\n",
       "      <td>0.326</td>\n",
       "      <td>6321</td>\n",
       "    </tr>\n",
       "    <tr>\n",
       "      <th>MISC</th>\n",
       "      <td>0.119</td>\n",
       "      <td>0.538</td>\n",
       "      <td>0.195</td>\n",
       "      <td>3438</td>\n",
       "    </tr>\n",
       "    <tr>\n",
       "      <th>PER</th>\n",
       "      <td>0.645</td>\n",
       "      <td>0.529</td>\n",
       "      <td>0.581</td>\n",
       "      <td>6600</td>\n",
       "    </tr>\n",
       "    <tr>\n",
       "      <th>total</th>\n",
       "      <td>0.381</td>\n",
       "      <td>0.510</td>\n",
       "      <td>0.436</td>\n",
       "      <td>23499</td>\n",
       "    </tr>\n",
       "  </tbody>\n",
       "</table>\n",
       "</div>"
      ],
      "text/plain": [
       "           p      r      f      s\n",
       "LOC    0.784  0.689  0.733   7140\n",
       "ORG    0.404  0.273  0.326   6321\n",
       "MISC   0.119  0.538  0.195   3438\n",
       "PER    0.645  0.529  0.581   6600\n",
       "total  0.381  0.510  0.436  23499"
      ]
     },
     "execution_count": 13,
     "metadata": {},
     "output_type": "execute_result"
    }
   ],
   "source": [
    "results = conll.evaluate(test_set, predictions)\n",
    "\n",
    "pd_tbl = pd.DataFrame().from_dict(results, orient='index')\n",
    "pd_tbl.round(decimals=3)"
   ]
  }
 ],
 "metadata": {
  "kernelspec": {
   "display_name": "Python 3",
   "language": "python",
   "name": "python3"
  },
  "language_info": {
   "codemirror_mode": {
    "name": "ipython",
    "version": 3
   },
   "file_extension": ".py",
   "mimetype": "text/x-python",
   "name": "python",
   "nbconvert_exporter": "python",
   "pygments_lexer": "ipython3",
   "version": "3.8.8"
  },
  "toc-autonumbering": false
 },
 "nbformat": 4,
 "nbformat_minor": 5
}
