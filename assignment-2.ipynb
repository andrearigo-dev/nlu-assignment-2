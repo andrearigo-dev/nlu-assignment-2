{
 "cells": [
  {
   "cell_type": "markdown",
   "id": "a8e9e121-6d5a-42f7-994a-139eb3a1da8c",
   "metadata": {},
   "source": [
    "# Assignment\n",
    "\n",
    "Assigment is in the intersection of Named Entity Recognition and Dependency Parsing.\n",
    "\n",
    "0. Evaluate spaCy NER on CoNLL 2003 data (provided)\n",
    "    - report token-level performance (per class and total)\n",
    "        - accuracy of correctly recognizing all tokens that belong to named entities (i.e. tag-level accuracy) \n",
    "    - report CoNLL chunk-level performance (per class and total);\n",
    "        - precision, recall, f-measure of correctly recognizing all the named entities in a chunk per class and total  \n",
    "\n",
    "1. Grouping of Entities.\n",
    "Write a function to group recognized named entities using `noun_chunks` method of [spaCy](https://spacy.io/usage/linguistic-features#noun-chunks). Analyze the groups in terms of most frequent combinations (i.e. NER types that go together).\n",
    "\n",
    "2. One of the possible post-processing steps is to fix segmentation errors.\n",
    "Write a function that extends the entity span to cover the full noun-compounds. Make use of `compound` dependency relation."
   ]
  },
  {
   "cell_type": "markdown",
   "id": "5d144d32-81d8-4d7e-b431-0132c4eecd0f",
   "metadata": {},
   "source": [
    "# CoNLL Data\n",
    "From https://www.clips.uantwerpen.be/conll2003/ner/\n",
    "\n",
    "The shared task of CoNLL-2003 concerns language-independent named entity recognition. We will concentrate on four types of named entities: persons, locations, organizations and names of miscellaneous entities that do not belong to the previous three groups. \n",
    "\n",
    "The CoNLL-2003 shared task data files contain four columns separated by a single space. Each word has been put on a separate line and there is an empty line after each sentence. The first item on each line is a word, the second a part-of-speech (POS) tag, the third a syntactic chunk tag and the fourth the named entity tag. The chunk tags and the named entity tags have the format I-TYPE which means that the word is inside a phrase of type TYPE. Only if two phrases of the same type immediately follow each other, the first word of the second phrase will have tag B-TYPE to show that it starts a new phrase. A word with tag O is not part of a phrase.\n"
   ]
  },
  {
   "cell_type": "code",
   "execution_count": 1,
   "id": "5001e6ad-1474-4c13-b410-4d20e006bfae",
   "metadata": {},
   "outputs": [],
   "source": [
    "import conll\n",
    "import my_ents\n",
    "\n",
    "# token, POS tag, syntactic chunk tag (IOB), entity tag (IOB)\n",
    "test = conll.read_corpus_conll('dataset/test.txt')\n",
    "test = [my_ents.Sentence(sent) for sent in test if '-DOCSTART-' not in sent[0][0]]\n",
    "# test = test[:100]"
   ]
  },
  {
   "cell_type": "markdown",
   "id": "6854e05a-b54a-4eb0-a2c4-6f94f133e693",
   "metadata": {},
   "source": [
    "# 0. Evaluate spaCy NER on CoNLL 2003 data (provided)\n",
    "- report token-level performance (per class and total)\n",
    "    - accuracy of correctly recognizing all tokens that belong to named entities (i.e. tag-level accuracy) \n",
    "- report CoNLL chunk-level performance (per class and total);\n",
    "    - precision, recall, f-measure of correctly recognizing all the named entities in a chunk per class and total"
   ]
  },
  {
   "cell_type": "markdown",
   "id": "83c51bfa-9592-4b9b-b6cf-baf85b3fa21f",
   "metadata": {},
   "source": [
    "Conversion from Ontonotes tags to CoNLL format"
   ]
  },
  {
   "cell_type": "code",
   "execution_count": 2,
   "id": "f6ded94b-69e3-4347-a973-e3b2ab38b10e",
   "metadata": {},
   "outputs": [],
   "source": [
    "# conversion of tags from Ontonotes (spacy) to CoNLL format\n",
    "def from_spacy_to_conll(predictions_spacy):\n",
    "    switcher = {\n",
    "                ' ': '',\n",
    "                '': '',\n",
    "                'ORG': '-ORG',\n",
    "                'PER': '-PER',\n",
    "                'LOC': '-LOC',\n",
    "                'PERSON': '-PER',\n",
    "                'GPE': '-LOC'\n",
    "            }\n",
    "    \n",
    "    # LOC, PER, ORG, MISC\n",
    "    predictions = []\n",
    "    \n",
    "    for sent in predictions_spacy:\n",
    "        new = []\n",
    "        \n",
    "        for ent in sent:\n",
    "            # merge iob and entity type\n",
    "            new.append((ent.text, ent.ent_iob_ + switcher.get(ent.ent_type_, '-MISC')))\n",
    "        \n",
    "        predictions.append(new)\n",
    "        \n",
    "    return predictions"
   ]
  },
  {
   "cell_type": "markdown",
   "id": "f14038a9-460d-4f0d-8dc9-609854208049",
   "metadata": {},
   "source": [
    "## SpaCy predictions with custom tokenizer\n",
    "Define custom tokenizer for spacy, otherwise spaCy will tokenize differently from how the CoNLL dataset has been tokenized. This would produce different tokens in output, rendering impossible to compute the accuracy.\n",
    "Because the prediction of each sentence is indipendent of the other sentences, so I used the Pool function to parallelize the task across multiple processes to performe the computation faster. However, for convinience I used a test set of only 100 samples during development, and that case is faster to not use multi processing."
   ]
  },
  {
   "cell_type": "code",
   "execution_count": 3,
   "id": "51821e03-65ac-45d1-8c84-5f1b7cac1e1e",
   "metadata": {},
   "outputs": [
    {
     "name": "stdout",
     "output_type": "stream",
     "text": [
      "CPU times: user 7.77 s, sys: 947 ms, total: 8.71 s\n",
      "Wall time: 11 s\n"
     ]
    }
   ],
   "source": [
    "%%time\n",
    "\n",
    "import spacy\n",
    "from multiprocessing import Pool\n",
    "\n",
    "nlp = spacy.load('en_core_web_sm')\n",
    "\n",
    "def tokenizer_(sent):\n",
    "    return spacy.tokens.Doc(nlp.vocab, sent.split())\n",
    "\n",
    "nlp.tokenizer = tokenizer_\n",
    "\n",
    "if len(test) > 100:\n",
    "    with Pool(4) as p:\n",
    "        # spacy predictions, multi-process\n",
    "        predictions_spacy = p.map(nlp, [str(sent) for sent in test])\n",
    "else:\n",
    "    # spacy predictions\n",
    "    predictions_spacy = [nlp(str(sent)) for sent in test]"
   ]
  },
  {
   "cell_type": "code",
   "execution_count": 4,
   "id": "113e4342-2f5a-4da6-94d5-15cfb863619e",
   "metadata": {},
   "outputs": [
    {
     "data": {
      "text/plain": [
       "[('Oleg', 'B-PER'),\n",
       " ('Shatskiku', 'I-PER'),\n",
       " ('made', 'O'),\n",
       " ('sure', 'O'),\n",
       " ('of', 'O'),\n",
       " ('the', 'O'),\n",
       " ('win', 'O'),\n",
       " ('in', 'O'),\n",
       " ('injury', 'O'),\n",
       " ('time', 'O'),\n",
       " (',', 'O'),\n",
       " ('hitting', 'O'),\n",
       " ('an', 'O'),\n",
       " ('unstoppable', 'O'),\n",
       " ('left', 'O'),\n",
       " ('foot', 'O'),\n",
       " ('shot', 'O'),\n",
       " ('from', 'O'),\n",
       " ('just', 'O'),\n",
       " ('outside', 'O'),\n",
       " ('the', 'O'),\n",
       " ('area', 'O'),\n",
       " ('.', 'O')]"
      ]
     },
     "execution_count": 4,
     "metadata": {},
     "output_type": "execute_result"
    }
   ],
   "source": [
    "# convert to NLTK format so that conll.evaluate can be used\n",
    "predictions = from_spacy_to_conll(predictions_spacy)\n",
    "\n",
    "predictions[6]"
   ]
  },
  {
   "cell_type": "markdown",
   "id": "9eadc1cf-89cf-42fa-a760-a02e41d43ac5",
   "metadata": {},
   "source": [
    "## Token-level accuracy, total and per-class"
   ]
  },
  {
   "cell_type": "code",
   "execution_count": 5,
   "id": "80d7ddb7-7e2e-46d9-8bfb-c9081283bd1d",
   "metadata": {},
   "outputs": [
    {
     "data": {
      "text/plain": [
       "[('Oleg', 'B-PER'),\n",
       " ('Shatskiku', 'I-PER'),\n",
       " ('made', 'O'),\n",
       " ('sure', 'O'),\n",
       " ('of', 'O'),\n",
       " ('the', 'O'),\n",
       " ('win', 'O'),\n",
       " ('in', 'O'),\n",
       " ('injury', 'O'),\n",
       " ('time', 'O'),\n",
       " (',', 'O'),\n",
       " ('hitting', 'O'),\n",
       " ('an', 'O'),\n",
       " ('unstoppable', 'O'),\n",
       " ('left', 'O'),\n",
       " ('foot', 'O'),\n",
       " ('shot', 'O'),\n",
       " ('from', 'O'),\n",
       " ('just', 'O'),\n",
       " ('outside', 'O'),\n",
       " ('the', 'O'),\n",
       " ('area', 'O'),\n",
       " ('.', 'O')]"
      ]
     },
     "execution_count": 5,
     "metadata": {},
     "output_type": "execute_result"
    }
   ],
   "source": [
    "# organize test data in tuples (entity, tag)\n",
    "test_set = [[(ent.text, ent.ent_tag) for ent in sent.ents] for sent in test]\n",
    "\n",
    "test_set[6]"
   ]
  },
  {
   "cell_type": "markdown",
   "id": "340637a5-9e5c-4f98-af8d-3bec5f22b6da",
   "metadata": {},
   "source": [
    "### Total accuracy"
   ]
  },
  {
   "cell_type": "code",
   "execution_count": 6,
   "id": "3492f234-c7d1-4102-830a-684b406772de",
   "metadata": {},
   "outputs": [
    {
     "data": {
      "text/plain": [
       "0.811"
      ]
     },
     "execution_count": 6,
     "metadata": {},
     "output_type": "execute_result"
    }
   ],
   "source": [
    "def total_accuracy(predictions_labels, labels):\n",
    "    if len(predictions_labels) != len(labels):\n",
    "        raise Exception('Prediction labels and test labels have different lenght')\n",
    "    \n",
    "    correct = 0\n",
    "    for i in range(len(predictions_labels)):\n",
    "        if predictions_labels[i] == labels[i]:\n",
    "            correct += 1\n",
    "    \n",
    "    return correct/len(labels)\n",
    "\n",
    "pred_labels = [ent[1] for sent in predictions for ent in sent]\n",
    "test_labels = [ent[1] for sent in test_set for ent in sent]\n",
    "\n",
    "round(total_accuracy(pred_labels, test_labels), 3)"
   ]
  },
  {
   "cell_type": "markdown",
   "id": "45cde2a4-b2e7-42ed-a3c7-a7003394fcd8",
   "metadata": {},
   "source": [
    "### Per-class accuracy"
   ]
  },
  {
   "cell_type": "code",
   "execution_count": 7,
   "id": "a85291b7-d86b-4e74-ba63-778a509e0f00",
   "metadata": {},
   "outputs": [
    {
     "data": {
      "text/html": [
       "<div>\n",
       "<style scoped>\n",
       "    .dataframe tbody tr th:only-of-type {\n",
       "        vertical-align: middle;\n",
       "    }\n",
       "\n",
       "    .dataframe tbody tr th {\n",
       "        vertical-align: top;\n",
       "    }\n",
       "\n",
       "    .dataframe thead th {\n",
       "        text-align: right;\n",
       "    }\n",
       "</style>\n",
       "<table border=\"1\" class=\"dataframe\">\n",
       "  <thead>\n",
       "    <tr style=\"text-align: right;\">\n",
       "      <th></th>\n",
       "      <th>precision</th>\n",
       "      <th>recall</th>\n",
       "      <th>f1-score</th>\n",
       "      <th>support</th>\n",
       "    </tr>\n",
       "  </thead>\n",
       "  <tbody>\n",
       "    <tr>\n",
       "      <th>B-LOC</th>\n",
       "      <td>0.775</td>\n",
       "      <td>0.704</td>\n",
       "      <td>0.738</td>\n",
       "      <td>1668.000</td>\n",
       "    </tr>\n",
       "    <tr>\n",
       "      <th>B-MISC</th>\n",
       "      <td>0.108</td>\n",
       "      <td>0.564</td>\n",
       "      <td>0.181</td>\n",
       "      <td>702.000</td>\n",
       "    </tr>\n",
       "    <tr>\n",
       "      <th>B-ORG</th>\n",
       "      <td>0.500</td>\n",
       "      <td>0.303</td>\n",
       "      <td>0.378</td>\n",
       "      <td>1661.000</td>\n",
       "    </tr>\n",
       "    <tr>\n",
       "      <th>B-PER</th>\n",
       "      <td>0.786</td>\n",
       "      <td>0.609</td>\n",
       "      <td>0.686</td>\n",
       "      <td>1617.000</td>\n",
       "    </tr>\n",
       "    <tr>\n",
       "      <th>I-LOC</th>\n",
       "      <td>0.602</td>\n",
       "      <td>0.623</td>\n",
       "      <td>0.612</td>\n",
       "      <td>257.000</td>\n",
       "    </tr>\n",
       "    <tr>\n",
       "      <th>I-MISC</th>\n",
       "      <td>0.053</td>\n",
       "      <td>0.403</td>\n",
       "      <td>0.094</td>\n",
       "      <td>216.000</td>\n",
       "    </tr>\n",
       "    <tr>\n",
       "      <th>I-ORG</th>\n",
       "      <td>0.420</td>\n",
       "      <td>0.520</td>\n",
       "      <td>0.464</td>\n",
       "      <td>835.000</td>\n",
       "    </tr>\n",
       "    <tr>\n",
       "      <th>I-PER</th>\n",
       "      <td>0.815</td>\n",
       "      <td>0.756</td>\n",
       "      <td>0.785</td>\n",
       "      <td>1156.000</td>\n",
       "    </tr>\n",
       "    <tr>\n",
       "      <th>O</th>\n",
       "      <td>0.945</td>\n",
       "      <td>0.862</td>\n",
       "      <td>0.901</td>\n",
       "      <td>38323.000</td>\n",
       "    </tr>\n",
       "    <tr>\n",
       "      <th>accuracy</th>\n",
       "      <td>0.811</td>\n",
       "      <td>0.811</td>\n",
       "      <td>0.811</td>\n",
       "      <td>0.811</td>\n",
       "    </tr>\n",
       "    <tr>\n",
       "      <th>macro avg</th>\n",
       "      <td>0.556</td>\n",
       "      <td>0.594</td>\n",
       "      <td>0.538</td>\n",
       "      <td>46435.000</td>\n",
       "    </tr>\n",
       "    <tr>\n",
       "      <th>weighted avg</th>\n",
       "      <td>0.886</td>\n",
       "      <td>0.811</td>\n",
       "      <td>0.842</td>\n",
       "      <td>46435.000</td>\n",
       "    </tr>\n",
       "  </tbody>\n",
       "</table>\n",
       "</div>"
      ],
      "text/plain": [
       "              precision  recall  f1-score    support\n",
       "B-LOC             0.775   0.704     0.738   1668.000\n",
       "B-MISC            0.108   0.564     0.181    702.000\n",
       "B-ORG             0.500   0.303     0.378   1661.000\n",
       "B-PER             0.786   0.609     0.686   1617.000\n",
       "I-LOC             0.602   0.623     0.612    257.000\n",
       "I-MISC            0.053   0.403     0.094    216.000\n",
       "I-ORG             0.420   0.520     0.464    835.000\n",
       "I-PER             0.815   0.756     0.785   1156.000\n",
       "O                 0.945   0.862     0.901  38323.000\n",
       "accuracy          0.811   0.811     0.811      0.811\n",
       "macro avg         0.556   0.594     0.538  46435.000\n",
       "weighted avg      0.886   0.811     0.842  46435.000"
      ]
     },
     "execution_count": 7,
     "metadata": {},
     "output_type": "execute_result"
    }
   ],
   "source": [
    "from sklearn.metrics import classification_report\n",
    "import pandas as pd\n",
    "\n",
    "per_class_metrics = classification_report(test_labels, pred_labels, output_dict=True)\n",
    "pd_tbl_class = pd.DataFrame().from_dict(per_class_metrics).transpose()\n",
    "pd_tbl_class.round(decimals=3)"
   ]
  },
  {
   "cell_type": "markdown",
   "id": "bfc11b69-f591-473e-88ba-d10aed67ca91",
   "metadata": {},
   "source": [
    "### Chunk-level accuracy"
   ]
  },
  {
   "cell_type": "code",
   "execution_count": 8,
   "id": "efe5d24e-6d56-44bb-8681-2cdce63ef4f0",
   "metadata": {},
   "outputs": [
    {
     "data": {
      "text/html": [
       "<div>\n",
       "<style scoped>\n",
       "    .dataframe tbody tr th:only-of-type {\n",
       "        vertical-align: middle;\n",
       "    }\n",
       "\n",
       "    .dataframe tbody tr th {\n",
       "        vertical-align: top;\n",
       "    }\n",
       "\n",
       "    .dataframe thead th {\n",
       "        text-align: right;\n",
       "    }\n",
       "</style>\n",
       "<table border=\"1\" class=\"dataframe\">\n",
       "  <thead>\n",
       "    <tr style=\"text-align: right;\">\n",
       "      <th></th>\n",
       "      <th>p</th>\n",
       "      <th>r</th>\n",
       "      <th>f</th>\n",
       "      <th>s</th>\n",
       "    </tr>\n",
       "  </thead>\n",
       "  <tbody>\n",
       "    <tr>\n",
       "      <th>LOC</th>\n",
       "      <td>0.766</td>\n",
       "      <td>0.695</td>\n",
       "      <td>0.729</td>\n",
       "      <td>1668</td>\n",
       "    </tr>\n",
       "    <tr>\n",
       "      <th>PER</th>\n",
       "      <td>0.761</td>\n",
       "      <td>0.590</td>\n",
       "      <td>0.665</td>\n",
       "      <td>1617</td>\n",
       "    </tr>\n",
       "    <tr>\n",
       "      <th>ORG</th>\n",
       "      <td>0.448</td>\n",
       "      <td>0.272</td>\n",
       "      <td>0.339</td>\n",
       "      <td>1661</td>\n",
       "    </tr>\n",
       "    <tr>\n",
       "      <th>MISC</th>\n",
       "      <td>0.105</td>\n",
       "      <td>0.550</td>\n",
       "      <td>0.177</td>\n",
       "      <td>702</td>\n",
       "    </tr>\n",
       "    <tr>\n",
       "      <th>total</th>\n",
       "      <td>0.397</td>\n",
       "      <td>0.523</td>\n",
       "      <td>0.451</td>\n",
       "      <td>5648</td>\n",
       "    </tr>\n",
       "  </tbody>\n",
       "</table>\n",
       "</div>"
      ],
      "text/plain": [
       "           p      r      f     s\n",
       "LOC    0.766  0.695  0.729  1668\n",
       "PER    0.761  0.590  0.665  1617\n",
       "ORG    0.448  0.272  0.339  1661\n",
       "MISC   0.105  0.550  0.177   702\n",
       "total  0.397  0.523  0.451  5648"
      ]
     },
     "execution_count": 8,
     "metadata": {},
     "output_type": "execute_result"
    }
   ],
   "source": [
    "results = conll.evaluate(test_set, predictions)\n",
    "\n",
    "pd_tbl = pd.DataFrame().from_dict(results, orient='index')\n",
    "pd_tbl.round(decimals=3)"
   ]
  },
  {
   "cell_type": "markdown",
   "id": "cdc00033-97ca-4ffd-9e41-c451a43cd29f",
   "metadata": {},
   "source": [
    "# 1. Grouping of Entities.\n",
    "Write a function to group recognized named entities using `noun_chunks` method of [spaCy](https://spacy.io/usage/linguistic-features#noun-chunks). Analyze the groups in terms of most frequent combinations (i.e. NER types that go together)."
   ]
  },
  {
   "cell_type": "code",
   "execution_count": 9,
   "id": "4150c341-a2c3-4dbf-9040-2e6aac35d8ff",
   "metadata": {
    "tags": []
   },
   "outputs": [
    {
     "name": "stdout",
     "output_type": "stream",
     "text": [
      "Oleg Shatskiku made sure of the win in injury time , hitting an unstoppable left foot shot from just outside the area . \n"
     ]
    },
    {
     "data": {
      "text/plain": [
       "[[Oleg, Shatskiku]]"
      ]
     },
     "execution_count": 9,
     "metadata": {},
     "output_type": "execute_result"
    }
   ],
   "source": [
    "def is_in_a_group(ent, groups):\n",
    "    for group in groups:\n",
    "        for elem in group:\n",
    "            if elem.i == ent.i:\n",
    "                return True\n",
    "    return False\n",
    "\n",
    "\n",
    "def insert_in_group(ent, groups):\n",
    "    # search the group containing the previous token in sentence order\n",
    "    for i, group in enumerate(groups):\n",
    "        for elem in group:\n",
    "            if elem.i == ent.i - 1:\n",
    "                # add the ent in next position\n",
    "                return groups.insert(i+1, [ent])\n",
    "\n",
    "\n",
    "def group_by_noun_chunk(sent_doc):\n",
    "    groups = [[ent for ent in chunk if ent.ent_type_ != ''] for chunk in sent_doc.noun_chunks]\n",
    "    groups = [group for group in groups if len(group) > 0]\n",
    "\n",
    "    for ent in sent_doc:\n",
    "        # check if ent already in a group\n",
    "        if ent.ent_type_ != '' and not is_in_a_group(ent, groups):\n",
    "            # insert the missing entity in sentence order\n",
    "            insert_in_group(ent, groups)\n",
    "\n",
    "    return groups\n",
    "\n",
    "\n",
    "predictions_grouped = [group_by_noun_chunk(sent) for sent in predictions_spacy]\n",
    "print(predictions_spacy[6])\n",
    "predictions_grouped[6]"
   ]
  },
  {
   "cell_type": "markdown",
   "id": "ff82ee3c-2802-4efc-a3d0-8eed936b5e06",
   "metadata": {},
   "source": [
    "Swap each token with its tag"
   ]
  },
  {
   "cell_type": "code",
   "execution_count": 10,
   "id": "d6d1bb78-0217-477d-8912-697d63cf39dc",
   "metadata": {},
   "outputs": [
    {
     "data": {
      "text/plain": [
       "[['PERSON', 'PERSON']]"
      ]
     },
     "execution_count": 10,
     "metadata": {},
     "output_type": "execute_result"
    }
   ],
   "source": [
    "def to_tag_groups(grouped_sents):\n",
    "    for i,sent in enumerate(grouped_sents):\n",
    "        for j,group in enumerate(sent):\n",
    "            for k,ent in enumerate(group):\n",
    "                grouped_sents[i][j][k] = ent.ent_type_\n",
    "\n",
    "to_tag_groups(predictions_grouped)\n",
    "predictions_grouped[6]"
   ]
  },
  {
   "cell_type": "markdown",
   "id": "c35aa93c-1a12-4304-bd7b-c41a02a2dab6",
   "metadata": {},
   "source": [
    "## Count frequencies of named entities combinations"
   ]
  },
  {
   "cell_type": "code",
   "execution_count": 11,
   "id": "103e1dae-9147-410b-aef0-22cbafe12364",
   "metadata": {},
   "outputs": [
    {
     "data": {
      "text/html": [
       "<div>\n",
       "<style scoped>\n",
       "    .dataframe tbody tr th:only-of-type {\n",
       "        vertical-align: middle;\n",
       "    }\n",
       "\n",
       "    .dataframe tbody tr th {\n",
       "        vertical-align: top;\n",
       "    }\n",
       "\n",
       "    .dataframe thead th {\n",
       "        text-align: right;\n",
       "    }\n",
       "</style>\n",
       "<table border=\"1\" class=\"dataframe\">\n",
       "  <thead>\n",
       "    <tr style=\"text-align: right;\">\n",
       "      <th></th>\n",
       "      <th>Count</th>\n",
       "    </tr>\n",
       "  </thead>\n",
       "  <tbody>\n",
       "    <tr>\n",
       "      <th>GPE</th>\n",
       "      <td>1100</td>\n",
       "    </tr>\n",
       "    <tr>\n",
       "      <th>DATE</th>\n",
       "      <td>797</td>\n",
       "    </tr>\n",
       "    <tr>\n",
       "      <th>ORG</th>\n",
       "      <td>623</td>\n",
       "    </tr>\n",
       "    <tr>\n",
       "      <th>PERSON-PERSON</th>\n",
       "      <td>607</td>\n",
       "    </tr>\n",
       "    <tr>\n",
       "      <th>CARDINAL</th>\n",
       "      <td>472</td>\n",
       "    </tr>\n",
       "    <tr>\n",
       "      <th>...</th>\n",
       "      <td>...</td>\n",
       "    </tr>\n",
       "    <tr>\n",
       "      <th>PRODUCT-PRODUCT</th>\n",
       "      <td>1</td>\n",
       "    </tr>\n",
       "    <tr>\n",
       "      <th>NORP-LOC-LOC</th>\n",
       "      <td>1</td>\n",
       "    </tr>\n",
       "    <tr>\n",
       "      <th>DATE-ORG</th>\n",
       "      <td>1</td>\n",
       "    </tr>\n",
       "    <tr>\n",
       "      <th>GPE-GPE-ORDINAL</th>\n",
       "      <td>1</td>\n",
       "    </tr>\n",
       "    <tr>\n",
       "      <th>DATE-NORP</th>\n",
       "      <td>1</td>\n",
       "    </tr>\n",
       "  </tbody>\n",
       "</table>\n",
       "<p>210 rows × 1 columns</p>\n",
       "</div>"
      ],
      "text/plain": [
       "                 Count\n",
       "GPE               1100\n",
       "DATE               797\n",
       "ORG                623\n",
       "PERSON-PERSON      607\n",
       "CARDINAL           472\n",
       "...                ...\n",
       "PRODUCT-PRODUCT      1\n",
       "NORP-LOC-LOC         1\n",
       "DATE-ORG             1\n",
       "GPE-GPE-ORDINAL      1\n",
       "DATE-NORP            1\n",
       "\n",
       "[210 rows x 1 columns]"
      ]
     },
     "execution_count": 11,
     "metadata": {},
     "output_type": "execute_result"
    }
   ],
   "source": [
    "from collections import defaultdict\n",
    "\n",
    "def get_group_freqs(grouped_sents):\n",
    "    freqs = defaultdict(lambda: 0, {})\n",
    "    \n",
    "    for i,sent in enumerate(grouped_sents):\n",
    "        for j,group in enumerate(sent):\n",
    "            freqs['-'.join([str(ent) for ent in group])] += 1\n",
    "    \n",
    "    return freqs\n",
    "\n",
    "\n",
    "pd_freq_tbl = pd.DataFrame().from_dict(get_group_freqs(predictions_grouped), orient='index', columns=['Count'])\n",
    "pd_freq_tbl.sort_values(by='Count', ascending=False)"
   ]
  }
 ],
 "metadata": {
  "kernelspec": {
   "display_name": "Python 3",
   "language": "python",
   "name": "python3"
  },
  "language_info": {
   "codemirror_mode": {
    "name": "ipython",
    "version": 3
   },
   "file_extension": ".py",
   "mimetype": "text/x-python",
   "name": "python",
   "nbconvert_exporter": "python",
   "pygments_lexer": "ipython3",
   "version": "3.8.8"
  },
  "toc-autonumbering": false
 },
 "nbformat": 4,
 "nbformat_minor": 5
}
