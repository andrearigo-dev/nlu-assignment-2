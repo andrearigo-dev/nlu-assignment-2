{
 "cells": [
  {
   "cell_type": "markdown",
   "id": "a8e9e121-6d5a-42f7-994a-139eb3a1da8c",
   "metadata": {},
   "source": [
    "# Assignment\n",
    "\n",
    "Assigment is in the intersection of Named Entity Recognition and Dependency Parsing.\n",
    "\n",
    "0. Evaluate spaCy NER on CoNLL 2003 data (provided)\n",
    "    - report token-level performance (per class and total)\n",
    "        - accuracy of correctly recognizing all tokens that belong to named entities (i.e. tag-level accuracy) \n",
    "    - report CoNLL chunk-level performance (per class and total);\n",
    "        - precision, recall, f-measure of correctly recognizing all the named entities in a chunk per class and total  \n",
    "\n",
    "1. Grouping of Entities.\n",
    "Write a function to group recognized named entities using `noun_chunks` method of [spaCy](https://spacy.io/usage/linguistic-features#noun-chunks). Analyze the groups in terms of most frequent combinations (i.e. NER types that go together). \n",
    "\n",
    "2. One of the possible post-processing steps is to fix segmentation errors.\n",
    "Write a function that extends the entity span to cover the full noun-compounds. Make use of `compound` dependency relation."
   ]
  },
  {
   "cell_type": "markdown",
   "id": "5d144d32-81d8-4d7e-b431-0132c4eecd0f",
   "metadata": {},
   "source": [
    "## CoNLL Data\n",
    "From https://www.clips.uantwerpen.be/conll2003/ner/\n",
    "\n",
    "The shared task of CoNLL-2003 concerns language-independent named entity recognition. We will concentrate on four types of named entities: persons, locations, organizations and names of miscellaneous entities that do not belong to the previous three groups. \n",
    "\n",
    "The CoNLL-2003 shared task data files contain four columns separated by a single space. Each word has been put on a separate line and there is an empty line after each sentence. The first item on each line is a word, the second a part-of-speech (POS) tag, the third a syntactic chunk tag and the fourth the named entity tag. The chunk tags and the named entity tags have the format I-TYPE which means that the word is inside a phrase of type TYPE. Only if two phrases of the same type immediately follow each other, the first word of the second phrase will have tag B-TYPE to show that it starts a new phrase. A word with tag O is not part of a phrase.\n"
   ]
  },
  {
   "cell_type": "code",
   "execution_count": 1,
   "id": "5001e6ad-1474-4c13-b410-4d20e006bfae",
   "metadata": {},
   "outputs": [],
   "source": [
    "import conll\n",
    "import my_ner\n",
    "\n",
    "# token, POS tag, syntactic chunk tag (IOB), entity tag (IOB)\n",
    "test = [sent for sent in conll.read_corpus_conll('dataset/train.txt') if '-DOCSTART-' not in sent[0][0]]\n",
    "test = [my_ner.Sentence(sent) for sent in test]\n",
    "\n",
    "# count_ = [len(sent) for sent in test]\n",
    "# print(sum(count_))"
   ]
  },
  {
   "cell_type": "markdown",
   "id": "6854e05a-b54a-4eb0-a2c4-6f94f133e693",
   "metadata": {},
   "source": [
    "## 0. Evaluate spaCy NER on CoNLL 2003 data (provided)\n",
    "- report token-level performance (per class and total)\n",
    "    - accuracy of correctly recognizing all tokens that belong to named entities (i.e. tag-level accuracy) \n",
    "- report CoNLL chunk-level performance (per class and total);\n",
    "    - precision, recall, f-measure of correctly recognizing all the named entities in a chunk per class and total  "
   ]
  },
  {
   "cell_type": "markdown",
   "id": "83c51bfa-9592-4b9b-b6cf-baf85b3fa21f",
   "metadata": {},
   "source": [
    "Conversion from Ontonotes tags to CoNLL format"
   ]
  },
  {
   "cell_type": "code",
   "execution_count": 2,
   "id": "f6ded94b-69e3-4347-a973-e3b2ab38b10e",
   "metadata": {},
   "outputs": [],
   "source": [
    "# conversion of tags from Ontonotes (spacy) to CoNLL format\n",
    "def from_spacy_to_conll(predictions_spacy):\n",
    "    switcher = {\n",
    "                ' ': '',\n",
    "                '': '',\n",
    "                'ORG': '-ORG',\n",
    "                'PER': '-PER',\n",
    "                'LOC': '-LOC',\n",
    "                'PERSON': '-PER',\n",
    "                'ORGANIZATION': '-ORG',\n",
    "                'LOCATION': '-LOC',\n",
    "                'GPE': '-LOC'\n",
    "            }\n",
    "    \n",
    "    # LOC, PER, ORG, MISC\n",
    "    predictions = []\n",
    "    \n",
    "    for sent in predictions_spacy:\n",
    "        new = []\n",
    "        \n",
    "        for ent in sent:\n",
    "            # merge iob and entity type\n",
    "            new.append((ent.text, ent.ent_iob_ + switcher.get(ent.ent_type_, 'MISC')))\n",
    "        \n",
    "        predictions.append(new)\n",
    "        \n",
    "    return predictions"
   ]
  },
  {
   "cell_type": "markdown",
   "id": "f14038a9-460d-4f0d-8dc9-609854208049",
   "metadata": {},
   "source": [
    "Define custom tokenizer for spacy, otherwise spaCy will tokenize differently from how the CoNLL dataset has been tokenized. This would produce different tokens in output, rendering impossible to compute the accuracy."
   ]
  },
  {
   "cell_type": "code",
   "execution_count": 3,
   "id": "22c9d87b-b1ac-4c46-8c8e-c544a7ed28bb",
   "metadata": {},
   "outputs": [],
   "source": [
    "import spacy\n",
    "nlp = spacy.load('en_core_web_sm')\n",
    "\n",
    "def tokenizer_(sent):\n",
    "    return spacy.tokens.Doc(nlp.vocab, sent.split())\n",
    "\n",
    "nlp.tokenizer = tokenizer_"
   ]
  },
  {
   "cell_type": "code",
   "execution_count": 4,
   "id": "113e4342-2f5a-4da6-94d5-15cfb863619e",
   "metadata": {},
   "outputs": [],
   "source": [
    "# spacy predictions\n",
    "predictions_spacy = [nlp(str(sent)) for sent in test[:100]]\n",
    "# print([(t.text, t.ent_iob_, t.ent_type_) for t in predictions_spacy[7]])\n",
    "\n",
    "# convert to NLTK format so that conll.evaluate can be used\n",
    "predictions = from_spacy_to_conll(predictions_spacy)"
   ]
  },
  {
   "cell_type": "code",
   "execution_count": 5,
   "id": "80d7ddb7-7e2e-46d9-8bfb-c9081283bd1d",
   "metadata": {},
   "outputs": [],
   "source": [
    "# organize test data in tuples (entity, tag)\n",
    "test_set = [[(ent.text, ent.ent_tag) for ent in sent.ents] for sent in test[:100]]"
   ]
  },
  {
   "cell_type": "code",
   "execution_count": 6,
   "id": "efe5d24e-6d56-44bb-8681-2cdce63ef4f0",
   "metadata": {},
   "outputs": [],
   "source": [
    "# results = conll.evaluate(test_set, predictions)"
   ]
  }
 ],
 "metadata": {
  "kernelspec": {
   "display_name": "Python 3",
   "language": "python",
   "name": "python3"
  },
  "language_info": {
   "codemirror_mode": {
    "name": "ipython",
    "version": 3
   },
   "file_extension": ".py",
   "mimetype": "text/x-python",
   "name": "python",
   "nbconvert_exporter": "python",
   "pygments_lexer": "ipython3",
   "version": "3.8.8"
  }
 },
 "nbformat": 4,
 "nbformat_minor": 5
}
