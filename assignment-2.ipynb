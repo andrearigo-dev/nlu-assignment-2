{
 "cells": [
  {
   "cell_type": "markdown",
   "id": "a8e9e121-6d5a-42f7-994a-139eb3a1da8c",
   "metadata": {},
   "source": [
    "# Assignment\n",
    "\n",
    "Assigment is in the intersection of Named Entity Recognition and Dependency Parsing.\n",
    "\n",
    "0. Evaluate spaCy NER on CoNLL 2003 data (provided)\n",
    "    - report token-level performance (per class and total)\n",
    "        - accuracy of correctly recognizing all tokens that belong to named entities (i.e. tag-level accuracy) \n",
    "    - report CoNLL chunk-level performance (per class and total);\n",
    "        - precision, recall, f-measure of correctly recognizing all the named entities in a chunk per class and total  \n",
    "\n",
    "1. Grouping of Entities.\n",
    "Write a function to group recognized named entities using `noun_chunks` method of [spaCy](https://spacy.io/usage/linguistic-features#noun-chunks). Analyze the groups in terms of most frequent combinations (i.e. NER types that go together). \n",
    "\n",
    "2. One of the possible post-processing steps is to fix segmentation errors.\n",
    "Write a function that extends the entity span to cover the full noun-compounds. Make use of `compound` dependency relation."
   ]
  },
  {
   "cell_type": "markdown",
   "id": "5d144d32-81d8-4d7e-b431-0132c4eecd0f",
   "metadata": {},
   "source": [
    "# CoNLL Data\n",
    "From https://www.clips.uantwerpen.be/conll2003/ner/\n",
    "\n",
    "The shared task of CoNLL-2003 concerns language-independent named entity recognition. We will concentrate on four types of named entities: persons, locations, organizations and names of miscellaneous entities that do not belong to the previous three groups. \n",
    "\n",
    "The CoNLL-2003 shared task data files contain four columns separated by a single space. Each word has been put on a separate line and there is an empty line after each sentence. The first item on each line is a word, the second a part-of-speech (POS) tag, the third a syntactic chunk tag and the fourth the named entity tag. The chunk tags and the named entity tags have the format I-TYPE which means that the word is inside a phrase of type TYPE. Only if two phrases of the same type immediately follow each other, the first word of the second phrase will have tag B-TYPE to show that it starts a new phrase. A word with tag O is not part of a phrase.\n"
   ]
  },
  {
   "cell_type": "code",
   "execution_count": 1,
   "id": "5001e6ad-1474-4c13-b410-4d20e006bfae",
   "metadata": {},
   "outputs": [],
   "source": [
    "import conll\n",
    "import my_ner\n",
    "\n",
    "# token, POS tag, syntactic chunk tag (IOB), entity tag (IOB)\n",
    "test = conll.read_corpus_conll('dataset/test.txt')\n",
    "test = [my_ner.Sentence(sent) for sent in test if '-DOCSTART-' not in sent[0][0]]\n",
    "# test = test[:100]\n",
    "\n",
    "# count_ = [len(sent) for sent in test]\n",
    "# print(sum(count_))"
   ]
  },
  {
   "cell_type": "markdown",
   "id": "6854e05a-b54a-4eb0-a2c4-6f94f133e693",
   "metadata": {},
   "source": [
    "# 0. Evaluate spaCy NER on CoNLL 2003 data (provided)\n",
    "- report token-level performance (per class and total)\n",
    "    - accuracy of correctly recognizing all tokens that belong to named entities (i.e. tag-level accuracy) \n",
    "- report CoNLL chunk-level performance (per class and total);\n",
    "    - precision, recall, f-measure of correctly recognizing all the named entities in a chunk per class and total"
   ]
  },
  {
   "cell_type": "markdown",
   "id": "83c51bfa-9592-4b9b-b6cf-baf85b3fa21f",
   "metadata": {},
   "source": [
    "Conversion from Ontonotes tags to CoNLL format"
   ]
  },
  {
   "cell_type": "code",
   "execution_count": 2,
   "id": "f6ded94b-69e3-4347-a973-e3b2ab38b10e",
   "metadata": {},
   "outputs": [],
   "source": [
    "# conversion of tags from Ontonotes (spacy) to CoNLL format\n",
    "def from_spacy_to_conll(predictions_spacy):\n",
    "    switcher = {\n",
    "                ' ': '',\n",
    "                '': '',\n",
    "                'ORG': '-ORG',\n",
    "                'PER': '-PER',\n",
    "                'LOC': '-LOC',\n",
    "                'PERSON': '-PER',\n",
    "                'GPE': '-LOC'\n",
    "            }\n",
    "    \n",
    "    # LOC, PER, ORG, MISC\n",
    "    predictions = []\n",
    "    \n",
    "    for sent in predictions_spacy:\n",
    "        new = []\n",
    "        \n",
    "        for ent in sent:\n",
    "            # merge iob and entity type\n",
    "            new.append((ent.text, ent.ent_iob_ + switcher.get(ent.ent_type_, '-MISC')))\n",
    "        \n",
    "        predictions.append(new)\n",
    "        \n",
    "    return predictions"
   ]
  },
  {
   "cell_type": "markdown",
   "id": "f14038a9-460d-4f0d-8dc9-609854208049",
   "metadata": {},
   "source": [
    "## Custom tokenizer\n",
    "Define custom tokenizer for spacy, otherwise spaCy will tokenize differently from how the CoNLL dataset has been tokenized. This would produce different tokens in output, rendering impossible to compute the accuracy."
   ]
  },
  {
   "cell_type": "code",
   "execution_count": 3,
   "id": "22c9d87b-b1ac-4c46-8c8e-c544a7ed28bb",
   "metadata": {},
   "outputs": [],
   "source": [
    "import spacy\n",
    "nlp = spacy.load('en_core_web_sm')\n",
    "\n",
    "# def tokenizer_(sent):\n",
    "#     return spacy.tokens.Doc(nlp.vocab, sent.split())\n",
    "\n",
    "nlp.tokenizer = lambda sent: spacy.tokens.Doc(nlp.vocab, sent.split())"
   ]
  },
  {
   "cell_type": "code",
   "execution_count": 4,
   "id": "7ccaca30-fb7f-4b9c-b6ca-b486263c4714",
   "metadata": {},
   "outputs": [
    {
     "name": "stdout",
     "output_type": "stream",
     "text": [
      "CPU times: user 2 µs, sys: 0 ns, total: 2 µs\n",
      "Wall time: 5.25 µs\n"
     ]
    }
   ],
   "source": [
    "%time\n",
    "\n",
    "# spacy predictions\n",
    "predictions = [nlp(str(sent)) for sent in test]"
   ]
  },
  {
   "cell_type": "code",
   "execution_count": 5,
   "id": "113e4342-2f5a-4da6-94d5-15cfb863619e",
   "metadata": {},
   "outputs": [
    {
     "name": "stdout",
     "output_type": "stream",
     "text": [
      "CPU times: user 4 µs, sys: 0 ns, total: 4 µs\n",
      "Wall time: 8.82 µs\n"
     ]
    },
    {
     "data": {
      "text/plain": [
       "[('Oleg', 'B-PER'),\n",
       " ('Shatskiku', 'I-PER'),\n",
       " ('made', 'O'),\n",
       " ('sure', 'O'),\n",
       " ('of', 'O'),\n",
       " ('the', 'O'),\n",
       " ('win', 'O'),\n",
       " ('in', 'O'),\n",
       " ('injury', 'O'),\n",
       " ('time', 'O'),\n",
       " (',', 'O'),\n",
       " ('hitting', 'O'),\n",
       " ('an', 'O'),\n",
       " ('unstoppable', 'O'),\n",
       " ('left', 'O'),\n",
       " ('foot', 'O'),\n",
       " ('shot', 'O'),\n",
       " ('from', 'O'),\n",
       " ('just', 'O'),\n",
       " ('outside', 'O'),\n",
       " ('the', 'O'),\n",
       " ('area', 'O'),\n",
       " ('.', 'O')]"
      ]
     },
     "execution_count": 5,
     "metadata": {},
     "output_type": "execute_result"
    }
   ],
   "source": [
    "%time\n",
    "\n",
    "# convert to NLTK format so that conll.evaluate can be used\n",
    "predictions = from_spacy_to_conll(predictions)\n",
    "\n",
    "predictions[6]"
   ]
  },
  {
   "cell_type": "markdown",
   "id": "9eadc1cf-89cf-42fa-a760-a02e41d43ac5",
   "metadata": {},
   "source": [
    "## Token-level accuracy, total and per-class"
   ]
  },
  {
   "cell_type": "code",
   "execution_count": 6,
   "id": "80d7ddb7-7e2e-46d9-8bfb-c9081283bd1d",
   "metadata": {},
   "outputs": [
    {
     "data": {
      "text/plain": [
       "[('Oleg', 'B-PER'),\n",
       " ('Shatskiku', 'I-PER'),\n",
       " ('made', 'O'),\n",
       " ('sure', 'O'),\n",
       " ('of', 'O'),\n",
       " ('the', 'O'),\n",
       " ('win', 'O'),\n",
       " ('in', 'O'),\n",
       " ('injury', 'O'),\n",
       " ('time', 'O'),\n",
       " (',', 'O'),\n",
       " ('hitting', 'O'),\n",
       " ('an', 'O'),\n",
       " ('unstoppable', 'O'),\n",
       " ('left', 'O'),\n",
       " ('foot', 'O'),\n",
       " ('shot', 'O'),\n",
       " ('from', 'O'),\n",
       " ('just', 'O'),\n",
       " ('outside', 'O'),\n",
       " ('the', 'O'),\n",
       " ('area', 'O'),\n",
       " ('.', 'O')]"
      ]
     },
     "execution_count": 6,
     "metadata": {},
     "output_type": "execute_result"
    }
   ],
   "source": [
    "# organize test data in tuples (entity, tag)\n",
    "test_set = [[(ent.text, ent.ent_tag) for ent in sent.ents] for sent in test]\n",
    "\n",
    "test_set[6]"
   ]
  },
  {
   "cell_type": "markdown",
   "id": "340637a5-9e5c-4f98-af8d-3bec5f22b6da",
   "metadata": {},
   "source": [
    "### Total accuracy"
   ]
  },
  {
   "cell_type": "code",
   "execution_count": 7,
   "id": "3492f234-c7d1-4102-830a-684b406772de",
   "metadata": {},
   "outputs": [
    {
     "data": {
      "text/plain": [
       "0.8109184882093249"
      ]
     },
     "execution_count": 7,
     "metadata": {},
     "output_type": "execute_result"
    }
   ],
   "source": [
    "def total_accuracy(predictions_labels, labels):\n",
    "    if len(predictions_labels) != len(labels):\n",
    "        raise Exception('Prediction labels and test labels have different lenght')\n",
    "    \n",
    "    correct = 0\n",
    "    for i in range(len(predictions_labels)):\n",
    "        if predictions_labels[i] == labels[i]:\n",
    "            correct += 1\n",
    "    \n",
    "    return correct/len(labels)\n",
    "\n",
    "pred_labels = [ent[1] for sent in predictions for ent in sent]\n",
    "test_labels = [ent[1] for sent in test_set for ent in sent]\n",
    "\n",
    "total_accuracy(pred_labels, test_labels)"
   ]
  },
  {
   "cell_type": "markdown",
   "id": "45cde2a4-b2e7-42ed-a3c7-a7003394fcd8",
   "metadata": {},
   "source": [
    "### Per-class accuracy"
   ]
  },
  {
   "cell_type": "markdown",
   "id": "bfc11b69-f591-473e-88ba-d10aed67ca91",
   "metadata": {},
   "source": [
    "### Chunk-level accuracy"
   ]
  },
  {
   "cell_type": "code",
   "execution_count": 10,
   "id": "efe5d24e-6d56-44bb-8681-2cdce63ef4f0",
   "metadata": {},
   "outputs": [
    {
     "data": {
      "text/html": [
       "<div>\n",
       "<style scoped>\n",
       "    .dataframe tbody tr th:only-of-type {\n",
       "        vertical-align: middle;\n",
       "    }\n",
       "\n",
       "    .dataframe tbody tr th {\n",
       "        vertical-align: top;\n",
       "    }\n",
       "\n",
       "    .dataframe thead th {\n",
       "        text-align: right;\n",
       "    }\n",
       "</style>\n",
       "<table border=\"1\" class=\"dataframe\">\n",
       "  <thead>\n",
       "    <tr style=\"text-align: right;\">\n",
       "      <th></th>\n",
       "      <th>p</th>\n",
       "      <th>r</th>\n",
       "      <th>f</th>\n",
       "      <th>s</th>\n",
       "    </tr>\n",
       "  </thead>\n",
       "  <tbody>\n",
       "    <tr>\n",
       "      <th>PER</th>\n",
       "      <td>0.761</td>\n",
       "      <td>0.590</td>\n",
       "      <td>0.665</td>\n",
       "      <td>1617</td>\n",
       "    </tr>\n",
       "    <tr>\n",
       "      <th>LOC</th>\n",
       "      <td>0.766</td>\n",
       "      <td>0.695</td>\n",
       "      <td>0.729</td>\n",
       "      <td>1668</td>\n",
       "    </tr>\n",
       "    <tr>\n",
       "      <th>MISC</th>\n",
       "      <td>0.105</td>\n",
       "      <td>0.550</td>\n",
       "      <td>0.177</td>\n",
       "      <td>702</td>\n",
       "    </tr>\n",
       "    <tr>\n",
       "      <th>ORG</th>\n",
       "      <td>0.448</td>\n",
       "      <td>0.272</td>\n",
       "      <td>0.339</td>\n",
       "      <td>1661</td>\n",
       "    </tr>\n",
       "    <tr>\n",
       "      <th>total</th>\n",
       "      <td>0.397</td>\n",
       "      <td>0.523</td>\n",
       "      <td>0.451</td>\n",
       "      <td>5648</td>\n",
       "    </tr>\n",
       "  </tbody>\n",
       "</table>\n",
       "</div>"
      ],
      "text/plain": [
       "           p      r      f     s\n",
       "PER    0.761  0.590  0.665  1617\n",
       "LOC    0.766  0.695  0.729  1668\n",
       "MISC   0.105  0.550  0.177   702\n",
       "ORG    0.448  0.272  0.339  1661\n",
       "total  0.397  0.523  0.451  5648"
      ]
     },
     "execution_count": 10,
     "metadata": {},
     "output_type": "execute_result"
    }
   ],
   "source": [
    "import pandas as pd\n",
    "\n",
    "results = conll.evaluate(test_set, predictions)\n",
    "\n",
    "pd_tbl = pd.DataFrame().from_dict(results, orient='index')\n",
    "pd_tbl.round(decimals=3)"
   ]
  }
 ],
 "metadata": {
  "kernelspec": {
   "display_name": "Python 3",
   "language": "python",
   "name": "python3"
  },
  "language_info": {
   "codemirror_mode": {
    "name": "ipython",
    "version": 3
   },
   "file_extension": ".py",
   "mimetype": "text/x-python",
   "name": "python",
   "nbconvert_exporter": "python",
   "pygments_lexer": "ipython3",
   "version": "3.8.8"
  }
 },
 "nbformat": 4,
 "nbformat_minor": 5
}
