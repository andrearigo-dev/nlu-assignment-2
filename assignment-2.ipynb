{
 "cells": [
  {
   "cell_type": "markdown",
   "id": "a8e9e121-6d5a-42f7-994a-139eb3a1da8c",
   "metadata": {},
   "source": [
    "# Assignment\n",
    "\n",
    "Assigment is in the intersection of Named Entity Recognition and Dependency Parsing.\n",
    "\n",
    "0. Evaluate spaCy NER on CoNLL 2003 data (provided)\n",
    "    - report token-level performance (per class and total)\n",
    "        - accuracy of correctly recognizing all tokens that belong to named entities (i.e. tag-level accuracy) \n",
    "    - report CoNLL chunk-level performance (per class and total);\n",
    "        - precision, recall, f-measure of correctly recognizing all the named entities in a chunk per class and total  \n",
    "\n",
    "1. Grouping of Entities.\n",
    "Write a function to group recognized named entities using `noun_chunks` method of [spaCy](https://spacy.io/usage/linguistic-features#noun-chunks). Analyze the groups in terms of most frequent combinations (i.e. NER types that go together). \n",
    "\n",
    "2. One of the possible post-processing steps is to fix segmentation errors.\n",
    "Write a function that extends the entity span to cover the full noun-compounds. Make use of `compound` dependency relation."
   ]
  },
  {
   "cell_type": "markdown",
   "id": "5d144d32-81d8-4d7e-b431-0132c4eecd0f",
   "metadata": {},
   "source": [
    "## CoNLL Data\n",
    "From https://www.clips.uantwerpen.be/conll2003/ner/\n",
    "\n",
    "The shared task of CoNLL-2003 concerns language-independent named entity recognition. We will concentrate on four types of named entities: persons, locations, organizations and names of miscellaneous entities that do not belong to the previous three groups. \n",
    "\n",
    "The CoNLL-2003 shared task data files contain four columns separated by a single space. Each word has been put on a separate line and there is an empty line after each sentence. The first item on each line is a word, the second a part-of-speech (POS) tag, the third a syntactic chunk tag and the fourth the named entity tag. The chunk tags and the named entity tags have the format I-TYPE which means that the word is inside a phrase of type TYPE. Only if two phrases of the same type immediately follow each other, the first word of the second phrase will have tag B-TYPE to show that it starts a new phrase. A word with tag O is not part of a phrase.\n"
   ]
  },
  {
   "cell_type": "code",
   "execution_count": 1,
   "id": "5001e6ad-1474-4c13-b410-4d20e006bfae",
   "metadata": {},
   "outputs": [],
   "source": [
    "import conll\n",
    "import my_ner\n",
    "\n",
    "# token, POS tag, syntactic chunk tag (IOB), entity tag (IOB)\n",
    "test = conll.read_corpus_conll('dataset/test.txt')\n",
    "test = [my_ner.Sentence(sent) for sent in test]\n",
    "\n",
    "# remove docstart\n",
    "del test[0]"
   ]
  },
  {
   "cell_type": "code",
   "execution_count": 2,
   "id": "07c16834-1c8f-4cd2-9896-9c920921bcdb",
   "metadata": {},
   "outputs": [
    {
     "data": {
      "text/plain": [
       "Oleg Shatskiku made sure of the win in injury time , hitting an unstoppable left foot shot from just outside the area ."
      ]
     },
     "execution_count": 2,
     "metadata": {},
     "output_type": "execute_result"
    }
   ],
   "source": [
    "test[6]"
   ]
  },
  {
   "cell_type": "code",
   "execution_count": 3,
   "id": "33cf07c9-08c6-469d-81af-bd30450ad4a0",
   "metadata": {},
   "outputs": [
    {
     "name": "stdout",
     "output_type": "stream",
     "text": [
      "Oleg\t\tB-PER\n",
      "Shatskiku\t\tI-PER\n",
      "made\t\tO\n",
      "sure\t\tO\n",
      "of\t\tO\n",
      "the\t\tO\n",
      "win\t\tO\n",
      "in\t\tO\n",
      "injury\t\tO\n",
      "time\t\tO\n",
      ",\t\tO\n",
      "hitting\t\tO\n",
      "an\t\tO\n",
      "unstoppable\t\tO\n",
      "left\t\tO\n",
      "foot\t\tO\n",
      "shot\t\tO\n",
      "from\t\tO\n",
      "just\t\tO\n",
      "outside\t\tO\n",
      "the\t\tO\n",
      "area\t\tO\n",
      ".\t\tO\n"
     ]
    }
   ],
   "source": [
    "for ent in test[6].ents:\n",
    "    print('{}\\t\\t{}'.format(ent.text, ent.ent_tag))"
   ]
  },
  {
   "cell_type": "code",
   "execution_count": 4,
   "id": "a51896b1-a114-4ee2-84c5-4ebf2f5c1770",
   "metadata": {},
   "outputs": [
    {
     "name": "stdout",
     "output_type": "stream",
     "text": [
      "['Oleg Shatskiku']\n",
      "[('Oleg', 'PERSON', 'B'), ('Shatskiku', 'PERSON', 'I'), ('made', '', 'O'), ('sure', '', 'O'), ('of', '', 'O'), ('the', '', 'O'), ('win', '', 'O'), ('in', '', 'O'), ('injury', '', 'O'), ('time', '', 'O'), (',', '', 'O'), ('hitting', '', 'O'), ('an', '', 'O'), ('unstoppable', '', 'O'), ('left', '', 'O'), ('foot', '', 'O'), ('shot', '', 'O'), ('from', '', 'O'), ('just', '', 'O'), ('outside', '', 'O'), ('the', '', 'O'), ('area', '', 'O'), ('.', '', 'O')]\n"
     ]
    },
    {
     "data": {
      "text/html": [
       "<span class=\"tex2jax_ignore\"><div class=\"entities\" style=\"line-height: 2.5; direction: ltr\">\n",
       "<mark class=\"entity\" style=\"background: #aa9cfc; padding: 0.45em 0.6em; margin: 0 0.25em; line-height: 1; border-radius: 0.35em;\">\n",
       "    Oleg Shatskiku\n",
       "    <span style=\"font-size: 0.8em; font-weight: bold; line-height: 1; border-radius: 0.35em; vertical-align: middle; margin-left: 0.5rem\">PERSON</span>\n",
       "</mark>\n",
       " made sure of the win in injury time , hitting an unstoppable left foot shot from just outside the area .</div></span>"
      ],
      "text/plain": [
       "<IPython.core.display.HTML object>"
      ]
     },
     "metadata": {},
     "output_type": "display_data"
    }
   ],
   "source": [
    "import spacy\n",
    "nlp = spacy.load('en_core_web_sm')\n",
    "txt = str(test[6])\n",
    "doc = nlp(txt)\n",
    "\n",
    "print([ent.text for ent in doc.ents])\n",
    "print([(t.text, t.ent_type_, t.ent_iob_) for t in doc])\n",
    "spacy.displacy.render(doc, style=\"ent\")"
   ]
  },
  {
   "cell_type": "markdown",
   "id": "6854e05a-b54a-4eb0-a2c4-6f94f133e693",
   "metadata": {},
   "source": [
    "## 0. Evaluate spaCy NER on CoNLL 2003 data (provided)\n",
    "- report token-level performance (per class and total)\n",
    "    - accuracy of correctly recognizing all tokens that belong to named entities (i.e. tag-level accuracy) \n",
    "- report CoNLL chunk-level performance (per class and total);\n",
    "    - precision, recall, f-measure of correctly recognizing all the named entities in a chunk per class and total  "
   ]
  },
  {
   "cell_type": "code",
   "execution_count": 5,
   "id": "f6ded94b-69e3-4347-a973-e3b2ab38b10e",
   "metadata": {},
   "outputs": [],
   "source": [
    "from collections import defaultdict\n",
    "\n",
    "# conversion of tags from Ontonotes (spacy) to CoNLL format\n",
    "def from_spacy_to_conll(predictions_spacy):\n",
    "    switcher = {\n",
    "                ' ': '',\n",
    "                '': '',\n",
    "                'ORG': '-ORG',\n",
    "                'PER': '-PER',\n",
    "                'LOC': '-LOC',\n",
    "                'PERSON': '-PER',\n",
    "                'ORGANIZATION': '-ORG',\n",
    "                'LOCATION': '-LOC',\n",
    "                'GPE': '-LOC'\n",
    "            }\n",
    "    \n",
    "    # LOC, PER, ORG, MISC\n",
    "    predictions = []\n",
    "    \n",
    "    for sent in predictions_spacy:\n",
    "        new = []\n",
    "        \n",
    "        for ent in sent:\n",
    "            # merge iob and entity type\n",
    "            new.append((ent.text, ent.ent_iob_ + switcher.get(ent.ent_type_, 'MISC')))\n",
    "        \n",
    "        predictions.append(new)\n",
    "        \n",
    "    return predictions\n",
    "\n",
    "\n",
    "# spacy predictions\n",
    "predictions_spacy = [nlp(str(sent)) for sent in test[:101]]\n",
    "# print([(t.text, t.ent_iob_, t.ent_type_) for t in predictions_spacy[7]])\n",
    "\n",
    "# convert to NLTK format so that conll.evaluate can be used\n",
    "predictions = from_spacy_to_conll(predictions_spacy)"
   ]
  },
  {
   "cell_type": "code",
   "execution_count": 6,
   "id": "f259adeb-a533-4195-a6de-2bd612691c57",
   "metadata": {},
   "outputs": [
    {
     "data": {
      "text/plain": [
       "[('Oleg', 'B-PER'),\n",
       " ('Shatskiku', 'I-PER'),\n",
       " ('made', 'O'),\n",
       " ('sure', 'O'),\n",
       " ('of', 'O'),\n",
       " ('the', 'O'),\n",
       " ('win', 'O'),\n",
       " ('in', 'O'),\n",
       " ('injury', 'O'),\n",
       " ('time', 'O'),\n",
       " (',', 'O'),\n",
       " ('hitting', 'O'),\n",
       " ('an', 'O'),\n",
       " ('unstoppable', 'O'),\n",
       " ('left', 'O'),\n",
       " ('foot', 'O'),\n",
       " ('shot', 'O'),\n",
       " ('from', 'O'),\n",
       " ('just', 'O'),\n",
       " ('outside', 'O'),\n",
       " ('the', 'O'),\n",
       " ('area', 'O'),\n",
       " ('.', 'O')]"
      ]
     },
     "execution_count": 6,
     "metadata": {},
     "output_type": "execute_result"
    }
   ],
   "source": [
    "predictions[6]"
   ]
  },
  {
   "cell_type": "code",
   "execution_count": 7,
   "id": "80d7ddb7-7e2e-46d9-8bfb-c9081283bd1d",
   "metadata": {},
   "outputs": [
    {
     "data": {
      "text/plain": [
       "[('Oleg', 'B-PER'),\n",
       " ('Shatskiku', 'I-PER'),\n",
       " ('made', 'O'),\n",
       " ('sure', 'O'),\n",
       " ('of', 'O'),\n",
       " ('the', 'O'),\n",
       " ('win', 'O'),\n",
       " ('in', 'O'),\n",
       " ('injury', 'O'),\n",
       " ('time', 'O'),\n",
       " (',', 'O'),\n",
       " ('hitting', 'O'),\n",
       " ('an', 'O'),\n",
       " ('unstoppable', 'O'),\n",
       " ('left', 'O'),\n",
       " ('foot', 'O'),\n",
       " ('shot', 'O'),\n",
       " ('from', 'O'),\n",
       " ('just', 'O'),\n",
       " ('outside', 'O'),\n",
       " ('the', 'O'),\n",
       " ('area', 'O'),\n",
       " ('.', 'O')]"
      ]
     },
     "execution_count": 7,
     "metadata": {},
     "output_type": "execute_result"
    }
   ],
   "source": [
    "# organize test data in tuples (entity, tag)\n",
    "test_set = [[(ent.text, ent.ent_tag) for ent in sent.ents] for sent in test[:100]]\n",
    "test_set[6]"
   ]
  },
  {
   "cell_type": "code",
   "execution_count": 8,
   "id": "43835de8-bd65-494e-aa52-42beb1484a5a",
   "metadata": {},
   "outputs": [
    {
     "data": {
      "text/plain": [
       "1395"
      ]
     },
     "execution_count": 8,
     "metadata": {},
     "output_type": "execute_result"
    }
   ],
   "source": [
    "count_test = [len(sent) for sent in test_set]\n",
    "sum(count_test)"
   ]
  },
  {
   "cell_type": "code",
   "execution_count": 9,
   "id": "6fd78b6a-9fd5-4576-a2ed-70053d78b755",
   "metadata": {},
   "outputs": [
    {
     "data": {
      "text/plain": [
       "1491"
      ]
     },
     "execution_count": 9,
     "metadata": {},
     "output_type": "execute_result"
    }
   ],
   "source": [
    "count_pred = [len(sent) for sent in predictions]\n",
    "sum(count_pred)"
   ]
  },
  {
   "cell_type": "code",
   "execution_count": 10,
   "id": "efe5d24e-6d56-44bb-8681-2cdce63ef4f0",
   "metadata": {},
   "outputs": [],
   "source": [
    "# results = conll.evaluate(test_set, predictions)"
   ]
  }
 ],
 "metadata": {
  "kernelspec": {
   "display_name": "Python 3",
   "language": "python",
   "name": "python3"
  },
  "language_info": {
   "codemirror_mode": {
    "name": "ipython",
    "version": 3
   },
   "file_extension": ".py",
   "mimetype": "text/x-python",
   "name": "python",
   "nbconvert_exporter": "python",
   "pygments_lexer": "ipython3",
   "version": "3.8.8"
  }
 },
 "nbformat": 4,
 "nbformat_minor": 5
}
