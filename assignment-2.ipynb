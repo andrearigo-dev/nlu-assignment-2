{
 "cells": [
  {
   "cell_type": "markdown",
   "id": "a8e9e121-6d5a-42f7-994a-139eb3a1da8c",
   "metadata": {},
   "source": [
    "# Assignment\n",
    "\n",
    "Assigment is in the intersection of Named Entity Recognition and Dependency Parsing.\n",
    "\n",
    "0. Evaluate spaCy NER on CoNLL 2003 data (provided)\n",
    "    - report token-level performance (per class and total)\n",
    "        - accuracy of correctly recognizing all tokens that belong to named entities (i.e. tag-level accuracy) \n",
    "    - report CoNLL chunk-level performance (per class and total);\n",
    "        - precision, recall, f-measure of correctly recognizing all the named entities in a chunk per class and total  \n",
    "\n",
    "1. Grouping of Entities.\n",
    "Write a function to group recognized named entities using `noun_chunks` method of [spaCy](https://spacy.io/usage/linguistic-features#noun-chunks). Analyze the groups in terms of most frequent combinations (i.e. NER types that go together).\n",
    "\n",
    "2. One of the possible post-processing steps is to fix segmentation errors.\n",
    "Write a function that extends the entity span to cover the full noun-compounds. Make use of `compound` dependency relation."
   ]
  },
  {
   "cell_type": "markdown",
   "id": "5d144d32-81d8-4d7e-b431-0132c4eecd0f",
   "metadata": {},
   "source": [
    "# CoNLL Data\n",
    "From https://www.clips.uantwerpen.be/conll2003/ner/\n",
    "\n",
    "The shared task of CoNLL-2003 concerns language-independent named entity recognition. We will concentrate on four types of named entities: persons, locations, organizations and names of miscellaneous entities that do not belong to the previous three groups. \n",
    "\n",
    "The CoNLL-2003 shared task data files contain four columns separated by a single space. Each word has been put on a separate line and there is an empty line after each sentence. The first item on each line is a word, the second a part-of-speech (POS) tag, the third a syntactic chunk tag and the fourth the named entity tag. The chunk tags and the named entity tags have the format I-TYPE which means that the word is inside a phrase of type TYPE. Only if two phrases of the same type immediately follow each other, the first word of the second phrase will have tag B-TYPE to show that it starts a new phrase. A word with tag O is not part of a phrase.\n"
   ]
  },
  {
   "cell_type": "code",
   "execution_count": 1,
   "id": "5001e6ad-1474-4c13-b410-4d20e006bfae",
   "metadata": {},
   "outputs": [],
   "source": [
    "import conll\n",
    "import my_tokens\n",
    "import spacy\n",
    "from multiprocessing import Pool\n",
    "from sklearn.metrics import classification_report\n",
    "import pandas as pd\n",
    "from collections import defaultdict\n",
    "\n",
    "# token, POS tag, syntactic chunk tag (IOB), entity tag (IOB)\n",
    "test = conll.read_corpus_conll('dataset/test.txt')\n",
    "test = [my_tokens.Sentence(sent) for sent in test\n",
    "        if '-DOCSTART-' not in sent[0][0]]\n",
    "test = test[:100]"
   ]
  },
  {
   "cell_type": "markdown",
   "id": "6854e05a-b54a-4eb0-a2c4-6f94f133e693",
   "metadata": {},
   "source": [
    "# 0. Evaluate spaCy NER on CoNLL 2003 data (provided)\n",
    "- report token-level performance (per class and total)\n",
    "    - accuracy of correctly recognizing all tokens that belong to named entities (i.e. tag-level accuracy) \n",
    "- report CoNLL chunk-level performance (per class and total);\n",
    "    - precision, recall, f-measure of correctly recognizing all the named entities in a chunk per class and total"
   ]
  },
  {
   "cell_type": "markdown",
   "id": "83c51bfa-9592-4b9b-b6cf-baf85b3fa21f",
   "metadata": {},
   "source": [
    "Conversion from Ontonotes tags to CoNLL format"
   ]
  },
  {
   "cell_type": "code",
   "execution_count": 2,
   "id": "f6ded94b-69e3-4347-a973-e3b2ab38b10e",
   "metadata": {},
   "outputs": [],
   "source": [
    "# conversion of tags from Ontonotes (spacy) to CoNLL format\n",
    "def from_spacy_to_conll(predictions_spacy):\n",
    "    switcher = {\n",
    "                ' ': '',\n",
    "                '': '',\n",
    "                'ORG': '-ORG',\n",
    "                'PER': '-PER',\n",
    "                'LOC': '-LOC',\n",
    "                'PERSON': '-PER',\n",
    "                'GPE': '-LOC'\n",
    "            }\n",
    "\n",
    "    # LOC, PER, ORG, MISC\n",
    "    predictions = []\n",
    "\n",
    "    for sent in predictions_spacy:\n",
    "        new = []\n",
    "\n",
    "        for token in sent:\n",
    "            # merge iob and entity type\n",
    "            new.append((token.text, token.ent_iob_ + switcher.get(\n",
    "                                            token.ent_type_, '-MISC')))\n",
    "\n",
    "        predictions.append(new)\n",
    "\n",
    "    return predictions"
   ]
  },
  {
   "cell_type": "markdown",
   "id": "f14038a9-460d-4f0d-8dc9-609854208049",
   "metadata": {},
   "source": [
    "## SpaCy predictions with custom tokenizer\n",
    "Define custom tokenizer for spacy, otherwise spaCy will tokenize differently from how the CoNLL dataset has been tokenized. This would produce different tokens in output, rendering impossible to compute the accuracy.\n",
    "Because the prediction of each sentence is indipendent of the other sentences, so I used the Pool function to parallelize the task across multiple processes to performe the computation faster. However, for convinience I used a test set of only 100 samples during development, and that case is faster to not use multi processing."
   ]
  },
  {
   "cell_type": "code",
   "execution_count": 3,
   "id": "51821e03-65ac-45d1-8c84-5f1b7cac1e1e",
   "metadata": {},
   "outputs": [
    {
     "name": "stdout",
     "output_type": "stream",
     "text": [
      "CPU times: user 1.34 s, sys: 54.8 ms, total: 1.39 s\n",
      "Wall time: 1.56 s\n"
     ]
    },
    {
     "data": {
      "text/plain": [
       "[('China', 'B', 'GPE'), ('controlled', 'O', ''), ('most', 'O', '')]"
      ]
     },
     "execution_count": 3,
     "metadata": {},
     "output_type": "execute_result"
    }
   ],
   "source": [
    "# %%time\n",
    "\n",
    "nlp = spacy.load('en_core_web_sm')\n",
    "\n",
    "\n",
    "def tokenizer_(sent):\n",
    "    return spacy.tokens.Doc(nlp.vocab, sent.split())\n",
    "\n",
    "\n",
    "nlp.tokenizer = tokenizer_\n",
    "\n",
    "if len(test) > 100:\n",
    "    with Pool(4) as p:\n",
    "        # spacy predictions, multi-process\n",
    "        predictions_spacy = p.map(nlp, [str(sent) for sent in test])\n",
    "else:\n",
    "    # spacy predictions\n",
    "    predictions_spacy = [nlp(str(sent)) for sent in test]\n",
    "\n",
    "[(token.text, token.ent_iob_, token.ent_type_) for token in predictions_spacy[5][0:3]]"
   ]
  },
  {
   "cell_type": "code",
   "execution_count": 4,
   "id": "113e4342-2f5a-4da6-94d5-15cfb863619e",
   "metadata": {},
   "outputs": [
    {
     "data": {
      "text/plain": [
       "[('China', 'B-LOC'), ('controlled', 'O'), ('most', 'O')]"
      ]
     },
     "execution_count": 4,
     "metadata": {},
     "output_type": "execute_result"
    }
   ],
   "source": [
    "# convert to NLTK format so that conll.evaluate can be used\n",
    "predictions = from_spacy_to_conll(predictions_spacy)\n",
    "\n",
    "predictions[5][0:3]"
   ]
  },
  {
   "cell_type": "markdown",
   "id": "9eadc1cf-89cf-42fa-a760-a02e41d43ac5",
   "metadata": {},
   "source": [
    "## Token-level accuracy, total and per-class"
   ]
  },
  {
   "cell_type": "code",
   "execution_count": 5,
   "id": "80d7ddb7-7e2e-46d9-8bfb-c9081283bd1d",
   "metadata": {},
   "outputs": [
    {
     "data": {
      "text/plain": [
       "[('China', 'B-LOC'), ('controlled', 'O'), ('most', 'O')]"
      ]
     },
     "execution_count": 5,
     "metadata": {},
     "output_type": "execute_result"
    }
   ],
   "source": [
    "# organize test data in tuples (entity, tag)\n",
    "test_set = [[(token.text, token.ent_tag) for token in sent.tokens] for sent in test]\n",
    "\n",
    "test_set[5][0:3]"
   ]
  },
  {
   "cell_type": "markdown",
   "id": "340637a5-9e5c-4f98-af8d-3bec5f22b6da",
   "metadata": {},
   "source": [
    "### Total accuracy"
   ]
  },
  {
   "cell_type": "code",
   "execution_count": 6,
   "id": "3492f234-c7d1-4102-830a-684b406772de",
   "metadata": {},
   "outputs": [
    {
     "data": {
      "text/plain": [
       "0.797"
      ]
     },
     "execution_count": 6,
     "metadata": {},
     "output_type": "execute_result"
    }
   ],
   "source": [
    "def total_accuracy(predictions_labels, labels):\n",
    "    if len(predictions_labels) != len(labels):\n",
    "        raise Exception('Prediction labels and test labels have different lenght')\n",
    "\n",
    "    correct = 0\n",
    "    for i in range(len(predictions_labels)):\n",
    "        if predictions_labels[i] == labels[i]:\n",
    "            correct += 1\n",
    "\n",
    "    return correct/len(labels)\n",
    "\n",
    "\n",
    "pred_labels = [token[1] for sent in predictions for token in sent]\n",
    "test_labels = [token[1] for sent in test_set for token in sent]\n",
    "\n",
    "round(total_accuracy(pred_labels, test_labels), 3)"
   ]
  },
  {
   "cell_type": "markdown",
   "id": "45cde2a4-b2e7-42ed-a3c7-a7003394fcd8",
   "metadata": {},
   "source": [
    "### Per-class accuracy"
   ]
  },
  {
   "cell_type": "code",
   "execution_count": 7,
   "id": "a85291b7-d86b-4e74-ba63-778a509e0f00",
   "metadata": {},
   "outputs": [
    {
     "data": {
      "text/html": [
       "<div>\n",
       "<style scoped>\n",
       "    .dataframe tbody tr th:only-of-type {\n",
       "        vertical-align: middle;\n",
       "    }\n",
       "\n",
       "    .dataframe tbody tr th {\n",
       "        vertical-align: top;\n",
       "    }\n",
       "\n",
       "    .dataframe thead th {\n",
       "        text-align: right;\n",
       "    }\n",
       "</style>\n",
       "<table border=\"1\" class=\"dataframe\">\n",
       "  <thead>\n",
       "    <tr style=\"text-align: right;\">\n",
       "      <th></th>\n",
       "      <th>precision</th>\n",
       "      <th>recall</th>\n",
       "      <th>f1-score</th>\n",
       "      <th>support</th>\n",
       "    </tr>\n",
       "  </thead>\n",
       "  <tbody>\n",
       "    <tr>\n",
       "      <th>B-LOC</th>\n",
       "      <td>0.840</td>\n",
       "      <td>0.768</td>\n",
       "      <td>0.803</td>\n",
       "      <td>82.000</td>\n",
       "    </tr>\n",
       "    <tr>\n",
       "      <th>B-MISC</th>\n",
       "      <td>0.086</td>\n",
       "      <td>0.545</td>\n",
       "      <td>0.148</td>\n",
       "      <td>22.000</td>\n",
       "    </tr>\n",
       "    <tr>\n",
       "      <th>B-ORG</th>\n",
       "      <td>0.133</td>\n",
       "      <td>1.000</td>\n",
       "      <td>0.235</td>\n",
       "      <td>2.000</td>\n",
       "    </tr>\n",
       "    <tr>\n",
       "      <th>B-PER</th>\n",
       "      <td>0.958</td>\n",
       "      <td>0.622</td>\n",
       "      <td>0.754</td>\n",
       "      <td>111.000</td>\n",
       "    </tr>\n",
       "    <tr>\n",
       "      <th>I-LOC</th>\n",
       "      <td>1.000</td>\n",
       "      <td>0.889</td>\n",
       "      <td>0.941</td>\n",
       "      <td>9.000</td>\n",
       "    </tr>\n",
       "    <tr>\n",
       "      <th>I-MISC</th>\n",
       "      <td>0.098</td>\n",
       "      <td>0.500</td>\n",
       "      <td>0.164</td>\n",
       "      <td>12.000</td>\n",
       "    </tr>\n",
       "    <tr>\n",
       "      <th>I-ORG</th>\n",
       "      <td>0.059</td>\n",
       "      <td>1.000</td>\n",
       "      <td>0.111</td>\n",
       "      <td>1.000</td>\n",
       "    </tr>\n",
       "    <tr>\n",
       "      <th>I-PER</th>\n",
       "      <td>0.873</td>\n",
       "      <td>0.711</td>\n",
       "      <td>0.784</td>\n",
       "      <td>97.000</td>\n",
       "    </tr>\n",
       "    <tr>\n",
       "      <th>O</th>\n",
       "      <td>0.946</td>\n",
       "      <td>0.831</td>\n",
       "      <td>0.885</td>\n",
       "      <td>1086.000</td>\n",
       "    </tr>\n",
       "    <tr>\n",
       "      <th>accuracy</th>\n",
       "      <td>0.797</td>\n",
       "      <td>0.797</td>\n",
       "      <td>0.797</td>\n",
       "      <td>0.797</td>\n",
       "    </tr>\n",
       "    <tr>\n",
       "      <th>macro avg</th>\n",
       "      <td>0.555</td>\n",
       "      <td>0.763</td>\n",
       "      <td>0.536</td>\n",
       "      <td>1422.000</td>\n",
       "    </tr>\n",
       "    <tr>\n",
       "      <th>weighted avg</th>\n",
       "      <td>0.914</td>\n",
       "      <td>0.797</td>\n",
       "      <td>0.844</td>\n",
       "      <td>1422.000</td>\n",
       "    </tr>\n",
       "  </tbody>\n",
       "</table>\n",
       "</div>"
      ],
      "text/plain": [
       "              precision  recall  f1-score   support\n",
       "B-LOC             0.840   0.768     0.803    82.000\n",
       "B-MISC            0.086   0.545     0.148    22.000\n",
       "B-ORG             0.133   1.000     0.235     2.000\n",
       "B-PER             0.958   0.622     0.754   111.000\n",
       "I-LOC             1.000   0.889     0.941     9.000\n",
       "I-MISC            0.098   0.500     0.164    12.000\n",
       "I-ORG             0.059   1.000     0.111     1.000\n",
       "I-PER             0.873   0.711     0.784    97.000\n",
       "O                 0.946   0.831     0.885  1086.000\n",
       "accuracy          0.797   0.797     0.797     0.797\n",
       "macro avg         0.555   0.763     0.536  1422.000\n",
       "weighted avg      0.914   0.797     0.844  1422.000"
      ]
     },
     "execution_count": 7,
     "metadata": {},
     "output_type": "execute_result"
    }
   ],
   "source": [
    "per_class_metrics = classification_report(test_labels, pred_labels,\n",
    "                                          output_dict=True)\n",
    "pd_tbl_class = pd.DataFrame().from_dict(per_class_metrics).transpose()\n",
    "pd_tbl_class.round(decimals=3)"
   ]
  },
  {
   "cell_type": "markdown",
   "id": "bfc11b69-f591-473e-88ba-d10aed67ca91",
   "metadata": {},
   "source": [
    "### Chunk-level accuracy"
   ]
  },
  {
   "cell_type": "code",
   "execution_count": 8,
   "id": "efe5d24e-6d56-44bb-8681-2cdce63ef4f0",
   "metadata": {},
   "outputs": [
    {
     "data": {
      "text/html": [
       "<div>\n",
       "<style scoped>\n",
       "    .dataframe tbody tr th:only-of-type {\n",
       "        vertical-align: middle;\n",
       "    }\n",
       "\n",
       "    .dataframe tbody tr th {\n",
       "        vertical-align: top;\n",
       "    }\n",
       "\n",
       "    .dataframe thead th {\n",
       "        text-align: right;\n",
       "    }\n",
       "</style>\n",
       "<table border=\"1\" class=\"dataframe\">\n",
       "  <thead>\n",
       "    <tr style=\"text-align: right;\">\n",
       "      <th></th>\n",
       "      <th>p</th>\n",
       "      <th>r</th>\n",
       "      <th>f</th>\n",
       "      <th>s</th>\n",
       "    </tr>\n",
       "  </thead>\n",
       "  <tbody>\n",
       "    <tr>\n",
       "      <th>MISC</th>\n",
       "      <td>0.079</td>\n",
       "      <td>0.500</td>\n",
       "      <td>0.136</td>\n",
       "      <td>22</td>\n",
       "    </tr>\n",
       "    <tr>\n",
       "      <th>PER</th>\n",
       "      <td>0.903</td>\n",
       "      <td>0.586</td>\n",
       "      <td>0.710</td>\n",
       "      <td>111</td>\n",
       "    </tr>\n",
       "    <tr>\n",
       "      <th>LOC</th>\n",
       "      <td>0.840</td>\n",
       "      <td>0.768</td>\n",
       "      <td>0.803</td>\n",
       "      <td>82</td>\n",
       "    </tr>\n",
       "    <tr>\n",
       "      <th>ORG</th>\n",
       "      <td>0.067</td>\n",
       "      <td>0.500</td>\n",
       "      <td>0.118</td>\n",
       "      <td>2</td>\n",
       "    </tr>\n",
       "    <tr>\n",
       "      <th>total</th>\n",
       "      <td>0.464</td>\n",
       "      <td>0.645</td>\n",
       "      <td>0.539</td>\n",
       "      <td>217</td>\n",
       "    </tr>\n",
       "  </tbody>\n",
       "</table>\n",
       "</div>"
      ],
      "text/plain": [
       "           p      r      f    s\n",
       "MISC   0.079  0.500  0.136   22\n",
       "PER    0.903  0.586  0.710  111\n",
       "LOC    0.840  0.768  0.803   82\n",
       "ORG    0.067  0.500  0.118    2\n",
       "total  0.464  0.645  0.539  217"
      ]
     },
     "execution_count": 8,
     "metadata": {},
     "output_type": "execute_result"
    }
   ],
   "source": [
    "results = conll.evaluate(test_set, predictions)\n",
    "\n",
    "pd_tbl = pd.DataFrame().from_dict(results, orient='index')\n",
    "pd_tbl.round(decimals=3)"
   ]
  },
  {
   "cell_type": "markdown",
   "id": "cdc00033-97ca-4ffd-9e41-c451a43cd29f",
   "metadata": {},
   "source": [
    "# 1. Grouping of Entities.\n",
    "Write a function to group recognized named entities using `noun_chunks` method of [spaCy](https://spacy.io/usage/linguistic-features#noun-chunks). Analyze the groups in terms of most frequent combinations (i.e. NER types that go together)."
   ]
  },
  {
   "cell_type": "code",
   "execution_count": 9,
   "id": "4150c341-a2c3-4dbf-9040-2e6aac35d8ff",
   "metadata": {
    "tags": []
   },
   "outputs": [
    {
     "name": "stdout",
     "output_type": "stream",
     "text": [
      "China controlled most of the match and saw several chances missed until the 78th minute when Uzbek striker Igor Shkvyrin took advantage of a misdirected defensive header to lob the ball over the advancing Chinese keeper and into an empty net . \n"
     ]
    },
    {
     "data": {
      "text/plain": [
       "[[China], [the, 78th, minute], [Uzbek, Igor, Shkvyrin], [Chinese]]"
      ]
     },
     "execution_count": 9,
     "metadata": {},
     "output_type": "execute_result"
    }
   ],
   "source": [
    "def is_in_a_group(token, groups):\n",
    "    for group in groups:\n",
    "        for elem in group:\n",
    "            if elem.i == token.i:\n",
    "                return True\n",
    "    return False\n",
    "\n",
    "\n",
    "def insert_in_group(token, groups):\n",
    "    # search the group containing the previous token in sentence order\n",
    "    for i, group in enumerate(groups):\n",
    "        for elem in group:\n",
    "            if elem.i == token.i - 1:\n",
    "                # add the token in next position\n",
    "                return groups.insert(i+1, [token])\n",
    "\n",
    "\n",
    "def group_by_noun_chunk(sent_doc):\n",
    "    groups = [[token for token in chunk if token.ent_type_ != '']\n",
    "              for chunk in sent_doc.noun_chunks]\n",
    "    groups = [group for group in groups if len(group) > 0]\n",
    "\n",
    "    for token in sent_doc:\n",
    "        # check if token already in a group\n",
    "        if token.ent_type_ != '' and not is_in_a_group(token, groups):\n",
    "            # insert the missing token in sentence order\n",
    "            insert_in_group(token, groups)\n",
    "\n",
    "    return groups\n",
    "\n",
    "\n",
    "predictions_grouped = [group_by_noun_chunk(sent) for sent in predictions_spacy]\n",
    "print(predictions_spacy[5])\n",
    "predictions_grouped[5]"
   ]
  },
  {
   "cell_type": "markdown",
   "id": "ff82ee3c-2802-4efc-a3d0-8eed936b5e06",
   "metadata": {},
   "source": [
    "Swap each token with its tag"
   ]
  },
  {
   "cell_type": "code",
   "execution_count": 10,
   "id": "d6d1bb78-0217-477d-8912-697d63cf39dc",
   "metadata": {},
   "outputs": [
    {
     "data": {
      "text/plain": [
       "[['GPE'], ['TIME', 'TIME', 'TIME'], ['NORP', 'PERSON', 'PERSON'], ['NORP']]"
      ]
     },
     "execution_count": 10,
     "metadata": {},
     "output_type": "execute_result"
    }
   ],
   "source": [
    "def to_tag_groups(grouped_sents):\n",
    "    for i, sent in enumerate(grouped_sents):\n",
    "        for j, group in enumerate(sent):\n",
    "            for k, token in enumerate(group):\n",
    "                grouped_sents[i][j][k] = token.ent_type_\n",
    "\n",
    "\n",
    "to_tag_groups(predictions_grouped)\n",
    "predictions_grouped[5]"
   ]
  },
  {
   "cell_type": "markdown",
   "id": "c35aa93c-1a12-4304-bd7b-c41a02a2dab6",
   "metadata": {},
   "source": [
    "## Count frequencies of named entities combinations"
   ]
  },
  {
   "cell_type": "code",
   "execution_count": 11,
   "id": "103e1dae-9147-410b-aef0-22cbafe12364",
   "metadata": {},
   "outputs": [
    {
     "data": {
      "text/html": [
       "<div>\n",
       "<style scoped>\n",
       "    .dataframe tbody tr th:only-of-type {\n",
       "        vertical-align: middle;\n",
       "    }\n",
       "\n",
       "    .dataframe tbody tr th {\n",
       "        vertical-align: top;\n",
       "    }\n",
       "\n",
       "    .dataframe thead th {\n",
       "        text-align: right;\n",
       "    }\n",
       "</style>\n",
       "<table border=\"1\" class=\"dataframe\">\n",
       "  <thead>\n",
       "    <tr style=\"text-align: right;\">\n",
       "      <th></th>\n",
       "      <th>Count</th>\n",
       "    </tr>\n",
       "  </thead>\n",
       "  <tbody>\n",
       "    <tr>\n",
       "      <th>GPE</th>\n",
       "      <td>63</td>\n",
       "    </tr>\n",
       "    <tr>\n",
       "      <th>PERSON-PERSON</th>\n",
       "      <td>38</td>\n",
       "    </tr>\n",
       "    <tr>\n",
       "      <th>CARDINAL</th>\n",
       "      <td>24</td>\n",
       "    </tr>\n",
       "    <tr>\n",
       "      <th>CARDINAL-PERSON-PERSON</th>\n",
       "      <td>17</td>\n",
       "    </tr>\n",
       "    <tr>\n",
       "      <th>DATE</th>\n",
       "      <td>13</td>\n",
       "    </tr>\n",
       "    <tr>\n",
       "      <th>ORG</th>\n",
       "      <td>9</td>\n",
       "    </tr>\n",
       "    <tr>\n",
       "      <th>NORP</th>\n",
       "      <td>8</td>\n",
       "    </tr>\n",
       "    <tr>\n",
       "      <th>TIME-TIME-TIME</th>\n",
       "      <td>7</td>\n",
       "    </tr>\n",
       "    <tr>\n",
       "      <th>ORG-ORG</th>\n",
       "      <td>7</td>\n",
       "    </tr>\n",
       "    <tr>\n",
       "      <th>TIME-TIME-TIME-TIME</th>\n",
       "      <td>6</td>\n",
       "    </tr>\n",
       "    <tr>\n",
       "      <th>PERSON-PERSON-PERSON</th>\n",
       "      <td>6</td>\n",
       "    </tr>\n",
       "    <tr>\n",
       "      <th>PERSON</th>\n",
       "      <td>5</td>\n",
       "    </tr>\n",
       "    <tr>\n",
       "      <th>ORDINAL</th>\n",
       "      <td>4</td>\n",
       "    </tr>\n",
       "    <tr>\n",
       "      <th>EVENT-EVENT-EVENT</th>\n",
       "      <td>4</td>\n",
       "    </tr>\n",
       "    <tr>\n",
       "      <th>GPE-GPE</th>\n",
       "      <td>4</td>\n",
       "    </tr>\n",
       "    <tr>\n",
       "      <th>GPE-GPE-GPE</th>\n",
       "      <td>3</td>\n",
       "    </tr>\n",
       "    <tr>\n",
       "      <th>ORG-ORG-ORG-ORG</th>\n",
       "      <td>2</td>\n",
       "    </tr>\n",
       "    <tr>\n",
       "      <th>DATE-DATE</th>\n",
       "      <td>2</td>\n",
       "    </tr>\n",
       "    <tr>\n",
       "      <th>TIME-TIME</th>\n",
       "      <td>2</td>\n",
       "    </tr>\n",
       "    <tr>\n",
       "      <th>GPE-PERSON-PERSON</th>\n",
       "      <td>1</td>\n",
       "    </tr>\n",
       "    <tr>\n",
       "      <th>DATE-EVENT-EVENT</th>\n",
       "      <td>1</td>\n",
       "    </tr>\n",
       "    <tr>\n",
       "      <th>ORDINAL-NORP</th>\n",
       "      <td>1</td>\n",
       "    </tr>\n",
       "    <tr>\n",
       "      <th>DATE-DATE-DATE</th>\n",
       "      <td>1</td>\n",
       "    </tr>\n",
       "    <tr>\n",
       "      <th>NORP-PERSON-PERSON</th>\n",
       "      <td>1</td>\n",
       "    </tr>\n",
       "    <tr>\n",
       "      <th>CARDINAL-GPE</th>\n",
       "      <td>1</td>\n",
       "    </tr>\n",
       "    <tr>\n",
       "      <th>CARDINAL-PERSON-PERSON-PERSON</th>\n",
       "      <td>1</td>\n",
       "    </tr>\n",
       "    <tr>\n",
       "      <th>PERSON-PERSON-PERSON-PERSON-PERSON</th>\n",
       "      <td>1</td>\n",
       "    </tr>\n",
       "    <tr>\n",
       "      <th>MONEY</th>\n",
       "      <td>1</td>\n",
       "    </tr>\n",
       "    <tr>\n",
       "      <th>CARDINAL-ORG</th>\n",
       "      <td>1</td>\n",
       "    </tr>\n",
       "    <tr>\n",
       "      <th>CARDINAL-FAC-FAC</th>\n",
       "      <td>1</td>\n",
       "    </tr>\n",
       "    <tr>\n",
       "      <th>GPE-PERSON-PERSON-CARDINAL</th>\n",
       "      <td>1</td>\n",
       "    </tr>\n",
       "    <tr>\n",
       "      <th>LAW-LAW</th>\n",
       "      <td>1</td>\n",
       "    </tr>\n",
       "    <tr>\n",
       "      <th>LAW</th>\n",
       "      <td>1</td>\n",
       "    </tr>\n",
       "  </tbody>\n",
       "</table>\n",
       "</div>"
      ],
      "text/plain": [
       "                                    Count\n",
       "GPE                                    63\n",
       "PERSON-PERSON                          38\n",
       "CARDINAL                               24\n",
       "CARDINAL-PERSON-PERSON                 17\n",
       "DATE                                   13\n",
       "ORG                                     9\n",
       "NORP                                    8\n",
       "TIME-TIME-TIME                          7\n",
       "ORG-ORG                                 7\n",
       "TIME-TIME-TIME-TIME                     6\n",
       "PERSON-PERSON-PERSON                    6\n",
       "PERSON                                  5\n",
       "ORDINAL                                 4\n",
       "EVENT-EVENT-EVENT                       4\n",
       "GPE-GPE                                 4\n",
       "GPE-GPE-GPE                             3\n",
       "ORG-ORG-ORG-ORG                         2\n",
       "DATE-DATE                               2\n",
       "TIME-TIME                               2\n",
       "GPE-PERSON-PERSON                       1\n",
       "DATE-EVENT-EVENT                        1\n",
       "ORDINAL-NORP                            1\n",
       "DATE-DATE-DATE                          1\n",
       "NORP-PERSON-PERSON                      1\n",
       "CARDINAL-GPE                            1\n",
       "CARDINAL-PERSON-PERSON-PERSON           1\n",
       "PERSON-PERSON-PERSON-PERSON-PERSON      1\n",
       "MONEY                                   1\n",
       "CARDINAL-ORG                            1\n",
       "CARDINAL-FAC-FAC                        1\n",
       "GPE-PERSON-PERSON-CARDINAL              1\n",
       "LAW-LAW                                 1\n",
       "LAW                                     1"
      ]
     },
     "execution_count": 11,
     "metadata": {},
     "output_type": "execute_result"
    }
   ],
   "source": [
    "def get_group_freqs(grouped_sents):\n",
    "    freqs = defaultdict(lambda: 0, {})\n",
    "\n",
    "    for i, sent in enumerate(grouped_sents):\n",
    "        for j, group in enumerate(sent):\n",
    "            freqs['-'.join([str(token) for token in group])] += 1\n",
    "\n",
    "    return freqs\n",
    "\n",
    "\n",
    "pd_freq_tbl = pd.DataFrame().from_dict(get_group_freqs(predictions_grouped),\n",
    "                                       orient='index', columns=['Count'])\n",
    "pd_freq_tbl.sort_values(by='Count', ascending=False)"
   ]
  },
  {
   "cell_type": "markdown",
   "id": "12194b99-57d1-4b92-b8aa-81dcb5571634",
   "metadata": {},
   "source": [
    "# 2. One of the possible post-processing steps is to fix segmentation errors.\n",
    "Write a function that extends the entity span to cover the full noun-compounds. Make use of `compound` dependency relation."
   ]
  },
  {
   "cell_type": "code",
   "execution_count": 56,
   "id": "2a3a78b3-2dc8-4c44-a73e-fc27b09ad7b5",
   "metadata": {},
   "outputs": [
    {
     "name": "stdout",
     "output_type": "stream",
     "text": [
      "Igor Shkvyrin\n"
     ]
    },
    {
     "data": {
      "text/html": [
       "<span class=\"tex2jax_ignore\"><div class=\"entities\" style=\"line-height: 2.5; direction: ltr\">China controlled most of the match and saw several chances missed until the 78th minute when Uzbek striker \n",
       "<mark class=\"entity\" style=\"background: #aa9cfc; padding: 0.45em 0.6em; margin: 0 0.25em; line-height: 1; border-radius: 0.35em;\">\n",
       "    Igor Shkvyrin\n",
       "    <span style=\"font-size: 0.8em; font-weight: bold; line-height: 1; border-radius: 0.35em; vertical-align: middle; margin-left: 0.5rem\">PERSON</span>\n",
       "</mark>\n",
       " took advantage of a misdirected defensive header to lob the ball over the advancing Chinese keeper and into an empty net . </div></span>"
      ],
      "text/plain": [
       "<IPython.core.display.HTML object>"
      ]
     },
     "metadata": {},
     "output_type": "display_data"
    },
    {
     "name": "stdout",
     "output_type": "stream",
     "text": [
      "Uzbek, compound, O, , 16\n",
      "striker, compound, O, , 17\n",
      "Igor, compound, B, PERSON, 18\n",
      "took, compound, O, , 20\n",
      "advantage, compound, O, , 21\n"
     ]
    }
   ],
   "source": [
    "ts = predictions_spacy[5].copy()\n",
    "\n",
    "new_span = spacy.tokens.Span(ts, 18, 20, label='PERSON')\n",
    "# span2 = spacy.tokens.Span(ts, 16, 17)\n",
    "print(new_span)\n",
    "ts.set_ents([new_span], default='outside')\n",
    "\n",
    "ts[20].head = ts[19]\n",
    "ts[20].dep_ = 'compound'\n",
    "\n",
    "ts[21].head = ts[20]\n",
    "ts[21].dep_ = 'compound'\n",
    "\n",
    "# spacy.displacy.render(ts, style='dep')\n",
    "spacy.displacy.render(ts, style='ent')\n",
    "for token in ts:\n",
    "    if token.dep_ == 'compound':\n",
    "        print(f'{token.text}, {token.dep_}, {token.ent_iob_}, {token.ent_type_}, {token.i}')"
   ]
  },
  {
   "cell_type": "code",
   "execution_count": 57,
   "id": "04860820-86e5-4b0f-966c-3304b6721462",
   "metadata": {
    "tags": []
   },
   "outputs": [
    {
     "data": {
      "text/html": [
       "<span class=\"tex2jax_ignore\"><div class=\"entities\" style=\"line-height: 2.5; direction: ltr\">China controlled most of the match and saw several chances missed until the 78th minute when \n",
       "<mark class=\"entity\" style=\"background: #aa9cfc; padding: 0.45em 0.6em; margin: 0 0.25em; line-height: 1; border-radius: 0.35em;\">\n",
       "    Uzbek striker Igor Shkvyrin took advantage\n",
       "    <span style=\"font-size: 0.8em; font-weight: bold; line-height: 1; border-radius: 0.35em; vertical-align: middle; margin-left: 0.5rem\">PERSON</span>\n",
       "</mark>\n",
       " of a misdirected defensive header to lob the ball over the advancing Chinese keeper and into an empty net . </div></span>"
      ],
      "text/plain": [
       "<IPython.core.display.HTML object>"
      ]
     },
     "metadata": {},
     "output_type": "display_data"
    }
   ],
   "source": [
    "def fix_segmentation(spacy_sents):\n",
    "    updated = True\n",
    "\n",
    "    # if a token in an entity span has a compound child that is not in another\n",
    "    # entity span, expand the span to include it\n",
    "    for sent in spacy_sents:\n",
    "        while updated:\n",
    "            updated = False\n",
    "\n",
    "            for span_i, _ in enumerate(sent.ents):\n",
    "                for token in sent.ents[span_i]:\n",
    "                    for child in token.children:\n",
    "                        # this way if a span gets expanded, this variable will be\n",
    "                        # updated accordingly instead of being set to the original\n",
    "                        # span passed by the 'for span in sent', which is never\n",
    "                        # updated\n",
    "                        span = sent.ents[span_i]\n",
    "\n",
    "                        # the child is a compound for the parent\n",
    "                        # because it has an IOB tag of O, it is not part of any\n",
    "                        # other span. So, its parent's span has to be\n",
    "                        # expandend to include the child\n",
    "                        if child.dep_ == 'compound' and child.ent_iob_ == 'O':\n",
    "                            # child on the left of the parent\n",
    "                            if child.i < token.i:\n",
    "                                # find the span's boundaries to create a new span\n",
    "                                start = child.i\n",
    "                                end = span[-1].i + 1\n",
    "                            else:\n",
    "                                # child.i > token.i since they can't be the same\n",
    "                                # token\n",
    "                                start = span[0].i\n",
    "                                end = child.i + 1\n",
    "\n",
    "                            sent.set_ents(\n",
    "                                [\n",
    "                                    spacy.tokens.Span(\n",
    "                                        doc=sent,\n",
    "                                        start=start,\n",
    "                                        end=end,\n",
    "                                        label=span[0].ent_type_\n",
    "                                    )\n",
    "                                ],\n",
    "                                default='unmodified'\n",
    "                            )\n",
    "                            updated = True\n",
    "\n",
    "\n",
    "fix_segmentation([ts])\n",
    "spacy.displacy.render(ts, style='ent')"
   ]
  }
 ],
 "metadata": {
  "kernelspec": {
   "display_name": "Python 3",
   "language": "python",
   "name": "python3"
  },
  "language_info": {
   "codemirror_mode": {
    "name": "ipython",
    "version": 3
   },
   "file_extension": ".py",
   "mimetype": "text/x-python",
   "name": "python",
   "nbconvert_exporter": "python",
   "pygments_lexer": "ipython3",
   "version": "3.8.8"
  },
  "toc-autonumbering": false
 },
 "nbformat": 4,
 "nbformat_minor": 5
}
